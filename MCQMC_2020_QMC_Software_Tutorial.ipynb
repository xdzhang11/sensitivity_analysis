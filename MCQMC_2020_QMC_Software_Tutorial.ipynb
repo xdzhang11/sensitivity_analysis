{
  "nbformat": 4,
  "nbformat_minor": 0,
  "metadata": {
    "colab": {
      "name": "MCQMC 2020 QMC Software Tutorial.ipynb",
      "provenance": [],
      "collapsed_sections": [],
      "toc_visible": true
    },
    "kernelspec": {
      "name": "python3",
      "display_name": "Python 3"
    }
  },
  "cells": [
    {
      "cell_type": "markdown",
      "metadata": {
        "id": "0xwyIP8iF1oa"
      },
      "source": [
        "[QMCPy]: https://qmcsoftware.github.io/QMCSoftware/ \"Choi,  S.-C.  T.,  Hickernell,  F. J.,  McCourt,  M.  &  Sorokin,  A. A quasi-Monte  Carlo  Python  Library. https://qmcsoftware.github.io/QMCSoftware/. 2020.\"\n",
        "\n",
        "[GAIL]: http://gailgithub.github.io/GAIL_Dev/ \"Sou-Cheng T. Choi, Yuhan Ding, Fred J. Hickernell, Lan Jiang, Lluis Antoni Jimenez Rugama, Da Li, Jagadeeswaran Rathinavel, Xin Tong, Kan Zhang, Yizhi Zhang, and Xuan Zhou, GAIL: Guaranteed Automatic Integration Library (Version 2.3.1) [MATLAB Software], 2020. Available from `http://gailgithub.github.io/GAIL_Dev/`\"\n",
        "\n",
        "[NumPy]: https://pypi.org/project/numpy/ \"Oliphant,  T. Guide  to  NumPy https://ecs.wgtn.ac.nz/foswiki/pub/Support/ManualPagesAndDocumentation/numpybook.pdf (TrelgolPublishing USA, 2006).\"\n",
        "\n",
        "[Scipy]: https://pypi.org/project/scipy/ \"Pauli Virtanen, Ralf Gommers, Travis E. Oliphant, Matt Haberland, Tyler Reddy, David Cournapeau, Evgeni Burovski, Pearu Peterson, Warren Weckesser, Jonathan Bright, Stéfan J. van der Walt, Matthew Brett, Joshua Wilson, K. Jarrod Millman, Nikolay Mayorov, Andrew R. J. Nelson, Eric Jones, Robert Kern, Eric Larson, CJ Carey, İlhan Polat, Yu Feng, Eric W. Moore, Jake VanderPlas, Denis Laxalde, Josef Perktold, Robert Cimrman, Ian Henriksen, E.A. Quintero, Charles R Harris, Anne M. Archibald, Antônio H. Ribeiro, Fabian Pedregosa, Paul van Mulbregt, and SciPy 1.0 Contributors. (2020) SciPy 1.0: Fundamental Algorithms for Scientific Computing in Python. Nature Methods, in press.\"\n",
        "\n",
        "[QRNG]: https://CRAN.R-project.org/package=qrng \"Marius Hofert and Christiane Lemieux (2019). qrng: (Randomized) Quasi-Random Number Generators. R package version 0.0-7. `https://CRAN.R-project.org/package=qrng`.\"\n",
        "\n",
        "[OwenHalton]: https://arxiv.org/abs/1706.02808 \"Owen, A. B. 'A randomized Halton algorithm in R,' 2017. arXiv:1706.02808 [stat.CO]\"\n",
        "\n",
        "[MPS]: https://people.cs.kuleuven.be/~dirk.nuyens/qmc-generators/ \"F. Y. Kuo and D. Nuyens. 'Application of quasi-Monte Carlo methods to elliptic PDEs with random diffusion coefficients - a survey of analysis and implementation,' Foundations of Computational Mathematics, 16(6):1631-1696, 2016. ([springer link](https://link.springer.com/article/10.1007/s10208-016-9329-5), [arxiv link](https://arxiv.org/abs/1606.06613))\"\n",
        "\n",
        "[CubMCML]: https://pubsonline.informs.org/doi/abs/10.1287/opre.1070.0496 \"Giles, M. Multilevel Monte Carlo Path Simulation. Operations  Research 56,607–617 (June 2008).\"\n",
        "\n",
        "[CubQMCML]: https://www.semanticscholar.org/paper/Multilevel-quasi-Monte-Carlo-path-simulation-Giles-Waterhouse/25a9ca3aa216aa371d1be06fa9b93927187ee4ca \"Giles,  M.  B.  &  Waterhouse,  B.  J.  Multilevel  quasi-Monte  Carlo  path  simulation. Advanced Financial  Modelling,  Radon  Series  on  Computational  and  Applied  Mathematics 8,165–181 (2009).\"\n",
        "\n",
        "[GilesSoftware]: http://people.maths.ox.ac.uk/~gilesm/mlmc/\n",
        "\n",
        "[PyTorch]: https://pytorch.org\n",
        "\n",
        "[LatticeBuilder]: http://simul.iro.umontreal.ca/latbuilder/ \"L’Ecuyer, Pierre & Munger, David. (2015). LatticeBuilder: A General Software Tool for Constructing Rank-1 Lattice Rules. ACM Transactions on Mathematical Software. 42. 10.1145/2754929.\"\n",
        "\n",
        "# Quasi-Monte Carlo (QMC) Software in QMCPy\n",
        "\n",
        "This notebook is at http://tinyurl.com/QMCPyTutorial.  \n",
        "\n",
        "A tutorial based on this notebook is at https://media.ed.ac.uk/playlist/dedicated/51612401/1_0z0wec2z/1_2k12mwiw.\n",
        "\n",
        "As an example of available QMC software, we introduce the Python library [QMCPy][QMCPy].  This Jupyter notebook saves your typing.  **Make your own copy via** ``File/Save a copy in Drive`` **so you an run, *edit*, and follow along.**\n",
        "\n",
        "QMCPy is a community effort.  This early release includes contributions from \n",
        "\n",
        "* Mike Giles [MLMC][CubMCML] and [MLQMC][CubQMCML] [software][GilesSoftware]\n",
        "* Marius Hofert and Christiane Lemieux's [QRNG][QRNG]\n",
        "* Pierre L'Ecuyer's [Lattice Builder][LatticeBuilder]\n",
        "* Dirk Nuyens's [Magic Point Shop (MPS)][MPS]\n",
        "* Art Owen's [Halton sequences][OwenHalton]\n",
        "* [PyTorch][PyTorch]\n",
        "* Guaranteed Automatic Integration Library [(GAIL)][GAIL]\n",
        "\n",
        "and depends on the [NumPy][NumPy] and [SciPy][SciPy] Python packages.\n",
        "\n",
        "View the companion pdf slides at https://speakerdeck.com/fjhickernell/quasi-monte-carlo-software and the introductory QMCPy blog at https://qmcpy.wordpress.com."
      ]
    },
    {
      "cell_type": "markdown",
      "metadata": {
        "id": "EbOXiuCQVs46"
      },
      "source": [
        "\n",
        "\n",
        "## Installation\n",
        "QMCPy can be installed with ``pip install qmcpy`` or cloned from the  [QMCSoftware GitHub repository](https://github.com/QMCSoftware/QMCSoftware).  "
      ]
    },
    {
      "cell_type": "code",
      "metadata": {
        "colab": {
          "base_uri": "https://localhost:8080/"
        },
        "id": "SW5LJSP37OEa",
        "outputId": "538d0914-0a1c-4630-8dd2-c7b908ba7bdc"
      },
      "source": [
        "!apt-get update\n",
        "!pip install --upgrade pip # update pip to latest version"
      ],
      "execution_count": null,
      "outputs": [
        {
          "output_type": "stream",
          "name": "stdout",
          "text": [
            "\r0% [Working]\r            \rIgn:1 https://developer.download.nvidia.com/compute/cuda/repos/ubuntu1804/x86_64  InRelease\n",
            "\r0% [Waiting for headers] [Waiting for headers] [Waiting for headers] [Waiting f\r                                                                               \rGet:2 https://cloud.r-project.org/bin/linux/ubuntu bionic-cran40/ InRelease [3,626 B]\n",
            "\r0% [Waiting for headers] [Waiting for headers] [Waiting for headers] [Waiting f\r0% [2 InRelease gpgv 3,626 B] [Waiting for headers] [Waiting for headers] [Wait\r                                                                               \rGet:3 http://ppa.launchpad.net/c2d4u.team/c2d4u4.0+/ubuntu bionic InRelease [15.9 kB]\n",
            "\r0% [2 InRelease gpgv 3,626 B] [Waiting for headers] [Waiting for headers] [3 In\r                                                                               \rGet:4 http://security.ubuntu.com/ubuntu bionic-security InRelease [88.7 kB]\n",
            "\r0% [2 InRelease gpgv 3,626 B] [Waiting for headers] [4 InRelease 0 B/88.7 kB 0%\r                                                                               \rHit:5 http://archive.ubuntu.com/ubuntu bionic InRelease\n",
            "Ign:6 https://developer.download.nvidia.com/compute/machine-learning/repos/ubuntu1804/x86_64  InRelease\n",
            "Get:7 https://developer.download.nvidia.com/compute/cuda/repos/ubuntu1804/x86_64  Release [696 B]\n",
            "Hit:8 https://developer.download.nvidia.com/compute/machine-learning/repos/ubuntu1804/x86_64  Release\n",
            "Get:9 https://developer.download.nvidia.com/compute/cuda/repos/ubuntu1804/x86_64  Release.gpg [836 B]\n",
            "Get:10 http://archive.ubuntu.com/ubuntu bionic-updates InRelease [88.7 kB]\n",
            "Hit:11 http://ppa.launchpad.net/cran/libgit2/ubuntu bionic InRelease\n",
            "Get:12 http://archive.ubuntu.com/ubuntu bionic-backports InRelease [74.6 kB]\n",
            "Get:13 http://ppa.launchpad.net/deadsnakes/ppa/ubuntu bionic InRelease [15.9 kB]\n",
            "Get:14 https://cloud.r-project.org/bin/linux/ubuntu bionic-cran40/ Packages [76.0 kB]\n",
            "Hit:15 http://ppa.launchpad.net/graphics-drivers/ppa/ubuntu bionic InRelease\n",
            "Get:17 https://developer.download.nvidia.com/compute/cuda/repos/ubuntu1804/x86_64  Packages [867 kB]\n",
            "Get:18 http://ppa.launchpad.net/c2d4u.team/c2d4u4.0+/ubuntu bionic/main Sources [1,823 kB]\n",
            "Get:19 http://security.ubuntu.com/ubuntu bionic-security/restricted amd64 Packages [738 kB]\n",
            "Get:20 http://security.ubuntu.com/ubuntu bionic-security/universe amd64 Packages [1,462 kB]\n",
            "Get:21 http://ppa.launchpad.net/c2d4u.team/c2d4u4.0+/ubuntu bionic/main amd64 Packages [934 kB]\n",
            "Get:22 http://security.ubuntu.com/ubuntu bionic-security/main amd64 Packages [2,514 kB]\n",
            "Get:23 http://archive.ubuntu.com/ubuntu bionic-updates/universe amd64 Packages [2,240 kB]\n",
            "Get:24 http://archive.ubuntu.com/ubuntu bionic-updates/restricted amd64 Packages [771 kB]\n",
            "Get:25 http://archive.ubuntu.com/ubuntu bionic-updates/main amd64 Packages [2,952 kB]\n",
            "Get:26 http://ppa.launchpad.net/deadsnakes/ppa/ubuntu bionic/main amd64 Packages [45.3 kB]\n",
            "Fetched 14.7 MB in 6s (2,652 kB/s)\n",
            "Reading package lists... Done\n",
            "Requirement already satisfied: pip in /usr/local/lib/python3.7/dist-packages (21.1.3)\n",
            "Collecting pip\n",
            "  Downloading pip-21.3.1-py3-none-any.whl (1.7 MB)\n",
            "\u001b[K     |████████████████████████████████| 1.7 MB 5.1 MB/s \n",
            "\u001b[?25hInstalling collected packages: pip\n",
            "  Attempting uninstall: pip\n",
            "    Found existing installation: pip 21.1.3\n",
            "    Uninstalling pip-21.1.3:\n",
            "      Successfully uninstalled pip-21.1.3\n",
            "Successfully installed pip-21.3.1\n"
          ]
        }
      ]
    },
    {
      "cell_type": "code",
      "metadata": {
        "id": "6Z9pGNDeWIBw",
        "colab": {
          "base_uri": "https://localhost:8080/"
        },
        "outputId": "411e4205-9e72-4083-fccc-d8dcb67f3fbe"
      },
      "source": [
        "!pip install qmcpy==1.2 --quiet #press inside the [ ] box to execute this command and install this package\n",
        "import qmcpy  #we import the environment at the start to use it\n",
        "import numpy as np  #basic numerical routines in Python\n",
        "import time  #timing routines\n",
        "import warnings  #to suppress warnings when needed\n",
        "import torch  #only needed for PyTorch Sobol' backend\n",
        "from torch.quasirandom import SobolEngine\n",
        "from matplotlib import pyplot;  #plotting\n",
        "\n",
        "pyplot.rc('font', size=16)  #set defaults so that the plots are readable\n",
        "pyplot.rc('axes', titlesize=16)\n",
        "pyplot.rc('axes', labelsize=16)\n",
        "pyplot.rc('xtick', labelsize=16)\n",
        "pyplot.rc('ytick', labelsize=16)\n",
        "pyplot.rc('legend', fontsize=16)\n",
        "pyplot.rc('figure', titlesize=16)\n",
        "\n",
        "#a helpful plotting method to show increasing numbers of points\n",
        "def plot_successive_points(distrib,ld_name,first_n=64,n_cols=1,pt_clr='bgkcmy',\n",
        "                           xlim=[0,1],ylim=[0,1],coord1 = 0,coord2 = 1):\n",
        "  fig,ax = pyplot.subplots(nrows=1,ncols=n_cols,figsize=(5*n_cols,5.5))\n",
        "  if n_cols==1: ax = [ax]\n",
        "  last_n = first_n*(2**n_cols)\n",
        "  points = distrib.gen_samples(n=last_n)\n",
        "  for i in range(n_cols):\n",
        "    n = first_n\n",
        "    nstart = 0\n",
        "    for j in range(i+1):\n",
        "      n = first_n*(2**j)\n",
        "      ax[i].scatter(points[nstart:n,coord1],points[nstart:n,coord2],color=pt_clr[j])\n",
        "      nstart = n\n",
        "    ax[i].set_title('n = %d'%n)\n",
        "    ax[i].set_xlim(xlim); ax[i].set_xticks(xlim); ax[i].set_xlabel('$x_{i,%d}$'%(coord1+1))\n",
        "    ax[i].set_ylim(ylim); ax[i].set_yticks(ylim); ax[i].set_ylabel('$x_{i,%d}$'%(coord2+1))\n",
        "    ax[i].set_aspect((xlim[1]-xlim[0])/(ylim[1]-ylim[0]))\n",
        "  fig.suptitle('%s Points'%ld_name)\n",
        "print('QMCPy Version',qmcpy.__version__)"
      ],
      "execution_count": null,
      "outputs": [
        {
          "output_type": "stream",
          "name": "stdout",
          "text": [
            "     |████████████████████████████████| 5.6 MB 4.9 MB/s            \n",
            "\u001b[?25h  Preparing metadata (setup.py) ... \u001b[?25l\u001b[?25hdone\n",
            "  Building wheel for qmcpy (setup.py) ... \u001b[?25l\u001b[?25hdone\n",
            "\u001b[33mWARNING: Running pip as the 'root' user can result in broken permissions and conflicting behaviour with the system package manager. It is recommended to use a virtual environment instead: https://pip.pypa.io/warnings/venv\u001b[0m\n",
            "QMCPy Version 1.2\n"
          ]
        }
      ]
    },
    {
      "cell_type": "markdown",
      "metadata": {
        "id": "VuiiIKLQZW0G"
      },
      "source": [
        "## Generating low discrepancy (LD) points via a ``DiscreteDistribution`` object\n",
        "\n",
        "We generate some points used for quasi-Monte Carlo methods.  These points are called low discrepancy (LD for short) and are created as an instance of a ``DiscreteDistribution`` class."
      ]
    },
    {
      "cell_type": "markdown",
      "metadata": {
        "id": "bWz-RtrMHll7"
      },
      "source": [
        "### Integration lattices\n",
        "\n",
        "Here are some (randomly shifted) integration lattice points. This is a two step procees:  \n",
        "\n",
        "i) construct the ``DiscreteDistribution`` object ``lattice``, and then \n",
        "\n",
        "ii) construct a number of points from the sequence.  \n",
        "\n",
        "The structure of these points favors ``n`` that is a power of 2."
      ]
    },
    {
      "cell_type": "code",
      "metadata": {
        "id": "JhMZcYfOhchK",
        "colab": {
          "base_uri": "https://localhost:8080/",
          "height": 834
        },
        "outputId": "90ac5112-0e25-4c18-99f6-494d9164fa85"
      },
      "source": [
        "lattice = qmcpy.Lattice(dimension=2)  #define a discrete LD distribution based on an integration lattice\n",
        "print(lattice)  #print the properties of the lattice object\n",
        "n = 16  #number of points to generate\n",
        "points = lattice.gen_samples(n)  #construct some points\n",
        "print(f'\\nLD Lattice Points with shape {points.shape}\\n'+str(points))  #these points have 15 significant digit precision but only three digits are shown\n",
        "plot_successive_points(lattice,'Lattice',n)"
      ],
      "execution_count": null,
      "outputs": [
        {
          "output_type": "stream",
          "name": "stdout",
          "text": [
            "Lattice (DiscreteDistribution Object)\n",
            "    d               2^(1)\n",
            "    dvec            [0 1]\n",
            "    randomize       1\n",
            "    order           natural\n",
            "    entropy         197347361141034937759840229259104826159\n",
            "    spawn_key       ()\n",
            "\n",
            "LD Lattice Points with shape (16, 2)\n",
            "[[0.51356125 0.34070421]\n",
            " [0.01356125 0.84070421]\n",
            " [0.76356125 0.09070421]\n",
            " [0.26356125 0.59070421]\n",
            " [0.63856125 0.71570421]\n",
            " [0.13856125 0.21570421]\n",
            " [0.88856125 0.46570421]\n",
            " [0.38856125 0.96570421]\n",
            " [0.57606125 0.02820421]\n",
            " [0.07606125 0.52820421]\n",
            " [0.82606125 0.77820421]\n",
            " [0.32606125 0.27820421]\n",
            " [0.70106125 0.40320421]\n",
            " [0.20106125 0.90320421]\n",
            " [0.95106125 0.15320421]\n",
            " [0.45106125 0.65320421]]\n"
          ]
        },
        {
          "output_type": "display_data",
          "data": {
            "image/png": "[encoded data removed]",
            "text/plain": [
              "<Figure size 360x396 with 1 Axes>"
            ]
          },
          "metadata": {
            "needs_background": "light"
          }
        }
      ]
    },
    {
      "cell_type": "markdown",
      "metadata": {
        "id": "WztUPDqptYOp"
      },
      "source": [
        "Rerunning the commands above yields a different sequence of points because these points are _randomly shifted_ modulo 1.\n",
        "\n",
        "We may also construct a subsequence of points in the middle of the sequence. Note that the points below match those above."
      ]
    },
    {
      "cell_type": "code",
      "metadata": {
        "id": "wTM9Mi5otlZF",
        "colab": {
          "base_uri": "https://localhost:8080/"
        },
        "outputId": "b1b5e967-e8cc-4f32-c3c3-307cacfb51fa"
      },
      "source": [
        "more_points = lattice.gen_samples(n_min=5,n_max=n)  #get more points\n",
        "print('LD Lattice Points with shape',more_points.shape,'\\n'+str(more_points))"
      ],
      "execution_count": null,
      "outputs": [
        {
          "output_type": "stream",
          "name": "stdout",
          "text": [
            "LD Lattice Points with shape (11, 2) \n",
            "[[0.13856125 0.21570421]\n",
            " [0.88856125 0.46570421]\n",
            " [0.38856125 0.96570421]\n",
            " [0.57606125 0.02820421]\n",
            " [0.07606125 0.52820421]\n",
            " [0.82606125 0.77820421]\n",
            " [0.32606125 0.27820421]\n",
            " [0.70106125 0.40320421]\n",
            " [0.20106125 0.90320421]\n",
            " [0.95106125 0.15320421]\n",
            " [0.45106125 0.65320421]]\n"
          ]
        }
      ]
    },
    {
      "cell_type": "markdown",
      "metadata": {
        "id": "aR5Z5rSMFBN9"
      },
      "source": [
        "Each $d$-dimensional point is _one row_ in the array.\n",
        "\n",
        "As we increase the number of points, they fill $[0,1]^d$ evenly.  The next points are placed in between the existing points.  Here we illustrate with $d=2$."
      ]
    },
    {
      "cell_type": "code",
      "metadata": {
        "id": "sEF-IqqeckC-",
        "colab": {
          "base_uri": "https://localhost:8080/",
          "height": 321
        },
        "outputId": "991b6b14-442f-4b30-bb87-b8c4b6e3be5b"
      },
      "source": [
        "plot_successive_points(lattice,'Lattice',n_cols=5)"
      ],
      "execution_count": null,
      "outputs": [
        {
          "output_type": "display_data",
          "data": {
            "image/png": "[encoded data removed]",
            "text/plain": [
              "<Figure size 1800x396 with 5 Axes>"
            ]
          },
          "metadata": {
            "needs_background": "light"
          }
        }
      ]
    },
    {
      "cell_type": "markdown",
      "metadata": {
        "id": "14UexIYSJr2r"
      },
      "source": [
        "### IID uniform points do not fill space as well\n",
        "\n",
        "Contrast this with independent and identically distributed (IID) points.  Although successive points fill the square, they do so without knowledge of the others and produce clusters and gaps.  Think of it this way\n",
        "\n",
        "* LD = evenly spread\n",
        "* IID = points do not know about each other\n",
        "\n",
        "(Since the first parameter in the ``DiscreteDistribution`` object is the dimension, you need not identify it.)"
      ]
    },
    {
      "cell_type": "code",
      "metadata": {
        "id": "rWJEGbqPJ4Ap",
        "colab": {
          "base_uri": "https://localhost:8080/"
        },
        "outputId": "84fc821b-f4a9-4b27-895c-b5ee710f05c5"
      },
      "source": [
        "iid = qmcpy.IIDStdUniform(2)  #standard uniform IID random vector generator from NumPy\n",
        "print(iid)  #print the properties of iid\n",
        "plot_successive_points(iid,'IID Uniform',n_cols=5)"
      ],
      "execution_count": null,
      "outputs": [
        {
          "output_type": "stream",
          "name": "stdout",
          "text": [
            "IIDStdUniform (DiscreteDistribution Object)\n",
            "    d               2^(1)\n",
            "    entropy         167439593233871791959086462350693290326\n",
            "    spawn_key       ()\n"
          ]
        },
        {
          "output_type": "display_data",
          "data": {
            "image/png": "[encoded data removed]",
            "text/plain": [
              "<Figure size 1800x396 with 5 Axes>"
            ]
          },
          "metadata": {
            "needs_background": "light"
          }
        }
      ]
    },
    {
      "cell_type": "markdown",
      "metadata": {
        "id": "57P6amgaMV36"
      },
      "source": [
        "### Rows and columns are _not_ interchangeable for LD\n",
        "\n",
        "For LD sequences we must differentiate between the cooordinates of the point (column) and which point (row). The transpose of an LD array is _not_ LD.  This differs from IID multivariate points with IID marginals.\n",
        "\n",
        "In the example below we reverse the roles of the rows and columns.  The transposed lattice points do not fill space at all, while the transposed IID points are as good as the originals."
      ]
    },
    {
      "cell_type": "code",
      "metadata": {
        "id": "TluhjiIyM12p",
        "colab": {
          "base_uri": "https://localhost:8080/",
          "height": 346
        },
        "outputId": "56834502-f203-4630-8755-d7f278b3f47f"
      },
      "source": [
        "d = 16  #dimension\n",
        "n = 2  #number of points\n",
        "lattice = qmcpy.Lattice(d)  #define a discrete LD distribution based on an integration lattice\n",
        "lattice_pts = lattice.gen_samples(n)  #the first parameter in the .gen_samples method is the number of points\n",
        "iid = qmcpy.IIDStdUniform(d)\n",
        "iid_pts = iid.gen_samples(n)\n",
        "fig,ax = pyplot.subplots(nrows=1,ncols=2,figsize=(10,5.5))\n",
        "ax[0].scatter(lattice_pts[0,0:d],lattice_pts[1,0:d],color='b')\n",
        "ax[0].set_title('Transposed Lattice Points')\n",
        "ax[1].scatter(iid_pts[0,0:d],iid_pts[1,0:d],color='b')\n",
        "ax[1].set_title('Transposed IID Points')\n",
        "for ii in range(2):\n",
        "  ax[ii].set_xlim([0,1]); ax[ii].set_xticks([0,1]); ax[ii].set_xlabel('$x_{1,j}$')\n",
        "  ax[ii].set_ylim([0,1]); ax[ii].set_yticks([0,1]); ax[ii].set_ylabel('$x_{2,j}$')\n",
        "  ax[ii].set_aspect(1)"
      ],
      "execution_count": null,
      "outputs": [
        {
          "output_type": "display_data",
          "data": {
            "image/png": "[encoded data removed]",
            "text/plain": [
              "<Figure size 720x396 with 2 Axes>"
            ]
          },
          "metadata": {
            "needs_background": "light"
          }
        }
      ]
    },
    {
      "cell_type": "markdown",
      "metadata": {
        "id": "5TUH0dtfICP8"
      },
      "source": [
        "### Sobol' points\n",
        "\n",
        "Another LD sequence is the Sobol' points.  Again, new points fill in the gaps between existing points. Since these are randomly digitally shifted Sobol' points, rerunning this command gives a different set of points.  For Sobol' points as well, ``n`` should normally be a power of 2."
      ]
    },
    {
      "cell_type": "code",
      "metadata": {
        "id": "iZN7mN98ktsR",
        "colab": {
          "base_uri": "https://localhost:8080/",
          "height": 753
        },
        "outputId": "b20e7b2e-229e-4d5d-e271-345553f2eedb"
      },
      "source": [
        "sobol = qmcpy.Sobol(2)  #Sobol LD generator\n",
        "print(sobol) #note below that the default is qrng from Hofert and Lemieux\n",
        "points = sobol.gen_samples(16)\n",
        "print(f'\\nLD Sobol\\' Points with shape {points.shape}\\n'+str(points)) \n",
        "plot_successive_points(sobol,'Sobol\\'',n_cols=5)"
      ],
      "execution_count": null,
      "outputs": [
        {
          "output_type": "stream",
          "name": "stdout",
          "text": [
            "Sobol (DiscreteDistribution Object)\n",
            "    d               2^(1)\n",
            "    dvec            [0 1]\n",
            "    randomize       LMS_DS\n",
            "    graycode        0\n",
            "    entropy         242125544473856210710797958683969057986\n",
            "    spawn_key       ()\n",
            "\n",
            "LD Sobol' Points with shape (16, 2)\n",
            "[[0.59928543 0.57185439]\n",
            " [0.05353295 0.42446272]\n",
            " [0.78302761 0.24223618]\n",
            " [0.36198327 0.75316875]\n",
            " [0.73936442 0.3064926 ]\n",
            " [0.16248205 0.69035092]\n",
            " [0.92322199 0.88306335]\n",
            " [0.47080745 0.11274591]\n",
            " [0.56190458 0.03997358]\n",
            " [0.10556665 0.95689675]\n",
            " [0.87021257 0.64986476]\n",
            " [0.28944115 0.34596368]\n",
            " [0.67170357 0.83656248]\n",
            " [0.24673957 0.15973564]\n",
            " [0.98014031 0.47776469]\n",
            " [0.43049487 0.51761361]]\n"
          ]
        },
        {
          "output_type": "display_data",
          "data": {
            "image/png": "[encoded data removed]",
            "text/plain": [
              "<Figure size 1800x396 with 5 Axes>"
            ]
          },
          "metadata": {
            "needs_background": "light"
          }
        }
      ]
    },
    {
      "cell_type": "markdown",
      "metadata": {
        "id": "urJl7sPxyAK1"
      },
      "source": [
        "### Halton Points\n",
        "\n",
        "A third kind of LD sequence is Halton points, which are also randomized. Again, new points fill in the gaps between existing points.  For Halton points there are no favored numbers of points."
      ]
    },
    {
      "cell_type": "code",
      "metadata": {
        "id": "ibwyHF1yk6Lc",
        "colab": {
          "base_uri": "https://localhost:8080/",
          "height": 822
        },
        "outputId": "6af17660-7aeb-4cc1-9e96-d6bc69390dbd"
      },
      "source": [
        "halton = qmcpy.Halton(2)\n",
        "print(halton)\n",
        "points = halton.gen_samples(20)\n",
        "print(f'\\nLD Halton Points with shape {points.shape}\\n'+str(points))\n",
        "plot_successive_points(halton,'Halton',n_cols=5,first_n=60)"
      ],
      "execution_count": null,
      "outputs": [
        {
          "output_type": "stream",
          "name": "stdout",
          "text": [
            "Halton (DiscreteDistribution Object)\n",
            "    d               2^(1)\n",
            "    dvec            [0 1]\n",
            "    randomize       QRNG\n",
            "    generalize      1\n",
            "    entropy         238995747626083894756786624496737651650\n",
            "    spawn_key       ()\n",
            "\n",
            "LD Halton Points with shape (20, 2)\n",
            "[[0.93643754 0.79273621]\n",
            " [0.43643754 0.12606954]\n",
            " [0.68643754 0.45940287]\n",
            " [0.18643754 0.90384732]\n",
            " [0.81143754 0.23718065]\n",
            " [0.31143754 0.57051398]\n",
            " [0.56143754 0.6816251 ]\n",
            " [0.06143754 0.01495843]\n",
            " [0.99893754 0.34829176]\n",
            " [0.49893754 0.82977324]\n",
            " [0.74893754 0.16310658]\n",
            " [0.24893754 0.49643991]\n",
            " [0.87393754 0.94088436]\n",
            " [0.37393754 0.27421769]\n",
            " [0.62393754 0.60755102]\n",
            " [0.12393754 0.71866213]\n",
            " [0.90518754 0.05199547]\n",
            " [0.40518754 0.3853288 ]\n",
            " [0.65518754 0.86681028]\n",
            " [0.15518754 0.20014361]]\n"
          ]
        },
        {
          "output_type": "display_data",
          "data": {
            "image/png": "[encoded data removed]",
            "text/plain": [
              "<Figure size 1800x396 with 5 Axes>"
            ]
          },
          "metadata": {
            "needs_background": "light"
          }
        }
      ]
    },
    {
      "cell_type": "markdown",
      "metadata": {
        "id": "bBtpvlYMZeaN"
      },
      "source": [
        "### Timing\n",
        "The time to generate LD points depends on several factors, including the hardware and the particular generator.  One can generate one million points in 64 dimensions in a matter of seconds, somewhat slower than IID uniform points.  You may replace the ``DiscreteDistribution`` object in the first line of code below to test the timings of other kinds of points.  Halton seems to be the slowest (probably because the backend is implemented in Python rather than C)."
      ]
    },
    {
      "cell_type": "code",
      "metadata": {
        "id": "d8zkb03zZ2gp",
        "colab": {
          "base_uri": "https://localhost:8080/"
        },
        "outputId": "20c2473e-3a2c-4f1a-e25b-2953a53d6ed8"
      },
      "source": [
        "ld = qmcpy.Lattice(64)  #define a discrete LD distribution\n",
        "print(ld)  #print the properties of the lattice object\n",
        "start_time = time.time()  #time now\n",
        "points = ld.gen_samples(2**20)  #construct some points\n",
        "end_time = time.time()  #time after points are constructed\n",
        "print(f'\\nLD Points with shape {points.shape}\\n'+str(points))\n",
        "print(f'\\nTime to construct points is %.1e seconds'%(end_time - start_time))"
      ],
      "execution_count": null,
      "outputs": [
        {
          "output_type": "stream",
          "name": "stdout",
          "text": [
            "Lattice (DiscreteDistribution Object)\n",
            "    d               2^(6)\n",
            "    dvec            [ 0  1  2 ... 61 62 63]\n",
            "    randomize       1\n",
            "    order           natural\n",
            "    entropy         131639545239833736516436121457414449511\n",
            "    spawn_key       ()\n",
            "\n",
            "LD Points with shape (1048576, 64)\n",
            "[[0.53167694 0.03496063 0.95062356 ... 0.08459648 0.85057038 0.04662076]\n",
            " [0.03167694 0.53496063 0.45062356 ... 0.58459648 0.35057038 0.54662076]\n",
            " [0.78167694 0.78496063 0.70062356 ... 0.83459648 0.60057038 0.79662076]\n",
            " ...\n",
            " [0.28167599 0.1107558  0.75250058 ... 0.2731007  0.07511204 0.2119545 ]\n",
            " [0.03167599 0.3607558  0.00250058 ... 0.5231007  0.32511204 0.4619545 ]\n",
            " [0.53167599 0.8607558  0.50250058 ... 0.0231007  0.82511204 0.9619545 ]]\n",
            "\n",
            "Time to construct points is 8.6e+00 seconds\n"
          ]
        }
      ]
    },
    {
      "cell_type": "markdown",
      "metadata": {
        "id": "MNY43r8NyMe9"
      },
      "source": [
        "### Transform LD sequences to mimic other distributions via a ``TrueMeasure`` object\n",
        "LD sequences mimic $\\mathcal{U}[0,1]^d$ by design.  If you want to mimic another distribution, LD points can be transformed accordingly.  This is done via a ``TrueMeasure`` object, which takes a ``DiscreteDistribution`` object as input. Choose the ``TrueMeasure`` according to the probability distribution that you wish to mimic, and input the LD ``DiscreteDistribution`` object that you wish to use."
      ]
    },
    {
      "cell_type": "markdown",
      "metadata": {
        "id": "Co5pxkVDvzsL"
      },
      "source": [
        "#### Uniform on $[\\boldsymbol{a},\\boldsymbol{b}]$\n",
        "An affine transformation can be used to turn $\\mathcal{U}[0,1]^d$ points into $\\mathcal{U}[\\boldsymbol{a},\\boldsymbol{b}]$ points.  The ``TrueMeasure`` object ``qmcpy.Uniform`` performs the transformation automatically.  Then we generate points as before, but now they mimic our new distribution."
      ]
    },
    {
      "cell_type": "code",
      "metadata": {
        "id": "v-QmQjMJsSiQ",
        "colab": {
          "base_uri": "https://localhost:8080/"
        },
        "outputId": "e55239f3-8e87-4f9b-b927-ef2fe1c45f0e"
      },
      "source": [
        "ld = qmcpy.Sobol(2)  #Sobol' points\n",
        "another_unif_ld = qmcpy.Uniform(ld, lower_bound=[-2,2], upper_bound=[2,4])  #define the desired probability distribution with sobol as input\n",
        "points = another_unif_ld.gen_samples(2**8) \n",
        "print(another_unif_ld)\n",
        "print(f'\\nUniform LD points with shape {points.shape}\\n'+str(points))  #these points have 15 significant digit precision but only three digits are shown\n",
        "plot_successive_points(another_unif_ld,'Uniform LD',first_n=2**8,xlim=[-2,2],ylim=[2,4])"
      ],
      "execution_count": null,
      "outputs": [
        {
          "output_type": "stream",
          "name": "stdout",
          "text": [
            "Uniform (TrueMeasure Object)\n",
            "    lower_bound     [-2  2]\n",
            "    upper_bound     [2 4]\n",
            "\n",
            "Uniform LD points with shape (256, 2)\n",
            "[[ 0.28051239  3.07562759]\n",
            " [-0.50121188  2.36536948]\n",
            " [ 1.85644521  2.51044326]\n",
            " [-1.11229292  3.79871977]\n",
            " [ 0.90154223  2.05425417]\n",
            " [-0.13006188  3.26255936]\n",
            " [ 1.47746551  3.60967477]\n",
            " [-1.74114865  2.8233516 ]\n",
            " [ 0.14323651  2.93036428]\n",
            " [-0.8873883   3.62879684]\n",
            " [ 1.72014542  3.49945678]\n",
            " [-1.49944638  2.1915422 ]\n",
            " [ 0.52221618  3.93975205]\n",
            " [-0.2585326   2.74327241]\n",
            " [ 1.09911555  2.3804271 ]\n",
            " [-1.87059641  3.18638834]\n",
            " [ 0.37675435  2.26141541]\n",
            " [-0.65604007  3.04773808]\n",
            " [ 1.98636912  3.82464805]\n",
            " [-1.23050566  2.6163433 ]\n",
            " [ 0.75570925  3.36065407]\n",
            " [-0.02720533  2.07237801]\n",
            " [ 1.36533356  2.80328273]\n",
            " [-1.6016652   3.51354034]\n",
            " [ 0.01206136  3.74847508]\n",
            " [-0.76792437  2.94251436]\n",
            " [ 1.62460534  2.18133811]\n",
            " [-1.34532013  3.37781729]\n",
            " [ 0.63309695  2.62945352]\n",
            " [-0.3967648   3.93736764]\n",
            " [ 1.24565046  3.19073302]\n",
            " [-1.97415484  2.49230098]\n",
            " [ 0.31967364  2.5760245 ]\n",
            " [-0.58726342  3.86576615]\n",
            " [ 1.80136818  3.00986361]\n",
            " [-1.04160618  2.29813987]\n",
            " [ 0.94071877  3.5538575 ]\n",
            " [-0.21609813  2.76216245]\n",
            " [ 1.42240377  2.11025466]\n",
            " [-1.67044661  3.32393125]\n",
            " [ 0.19803886  3.42978439]\n",
            " [-0.95780041  2.12821718]\n",
            " [ 1.68070948  2.99985345]\n",
            " [-1.41312021  3.69193911]\n",
            " [ 0.57700329  2.4403317 ]\n",
            " [-0.32895995  3.2438523 ]\n",
            " [ 1.05966438  3.8800302 ]\n",
            " [-1.78428547  2.68599167]\n",
            " [ 0.46257689  3.76083551]\n",
            " [-0.69500283  2.54715842]\n",
            " [ 1.91642994  2.32504472]\n",
            " [-1.17620671  3.11674021]\n",
            " [ 0.84154702  2.86123373]\n",
            " [-0.06615287  3.5729579 ]\n",
            " [ 1.2954096   3.30288582]\n",
            " [-1.54735102  2.01314367]\n",
            " [ 0.08227523  2.24887199]\n",
            " [-0.82249795  3.44291103]\n",
            " [ 1.53905749  3.68075845]\n",
            " [-1.30663199  2.8772374 ]\n",
            " [ 0.70329553  3.12905685]\n",
            " [-0.45135367  2.43697073]\n",
            " [ 1.16008733  2.69131291]\n",
            " [-1.93548199  3.99288063]\n",
            " [ 0.30665732  2.09193915]\n",
            " [-0.53518468  3.34908854]\n",
            " [ 1.82204143  3.52529047]\n",
            " [-1.08571686  2.78390321]\n",
            " [ 0.93563511  3.03598968]\n",
            " [-0.15632705  2.2807932 ]\n",
            " [ 1.4510135   2.59678091]\n",
            " [-1.70686877  3.83621484]\n",
            " [ 0.1792844   3.91786754]\n",
            " [-0.91560852  2.64132423]\n",
            " [ 1.69173835  2.48061188]\n",
            " [-1.4632115   3.21041772]\n",
            " [ 0.55031236  2.95420173]\n",
            " [-0.29445659  3.72879211]\n",
            " [ 1.06276058  3.39731865]\n",
            " [-1.8420691   2.16946614]\n",
            " [ 0.41107619  3.27430878]\n",
            " [-0.68256456  2.03487536]\n",
            " [ 1.96014591  2.84291298]\n",
            " [-1.19648526  3.59810899]\n",
            " [ 0.78211365  2.34580733]\n",
            " [-0.06140693  3.08719414]\n",
            " [ 1.3311891   3.78697065]\n",
            " [-1.57531809  2.52982177]\n",
            " [ 0.04041701  2.73158403]\n",
            " [-0.80407715  3.95943603]\n",
            " [ 1.58850969  3.166888  ]\n",
            " [-1.31702177  2.39229805]\n",
            " [ 0.66937379  3.64829796]\n",
            " [-0.42524435  2.91849256]\n",
            " [ 1.2174722   2.20323029]\n",
            " [-1.93817943  3.47977309]\n",
            " [ 0.346078    3.5923357 ]\n",
            " [-0.62146507  2.84948533]\n",
            " [ 1.76722383  2.02471046]\n",
            " [-1.01525897  3.28332343]\n",
            " [ 0.9750405   2.53559289]\n",
            " [-0.24262273  3.78039666]\n",
            " [ 1.39618061  3.09736068]\n",
            " [-1.63642617  2.33679485]\n",
            " [ 0.23431565  2.41728776]\n",
            " [-0.98628001  3.14074422]\n",
            " [ 1.65253132  3.98100867]\n",
            " [-1.3771447   2.71081427]\n",
            " [ 0.60535884  3.45478174]\n",
            " [-0.36511284  2.22937188]\n",
            " [ 1.02356879  2.8969221 ]\n",
            " [-1.75598707  3.66906936]\n",
            " [ 0.49666981  2.773729  ]\n",
            " [-0.72126796  3.53429535]\n",
            " [ 1.88997782  3.34330977]\n",
            " [-1.14192694  2.09850554]\n",
            " [ 0.86769205  3.84638734]\n",
            " [-0.10012555  2.58777391]\n",
            " [ 1.26100578  2.2865741 ]\n",
            " [-1.520775    3.02942499]\n",
            " [ 0.11037145  3.23198058]\n",
            " [-0.85842188  2.45983282]\n",
            " [ 1.50270242  2.66630798]\n",
            " [-1.27810478  3.89171828]\n",
            " [ 0.73934352  2.14790117]\n",
            " [-0.47957379  3.41809601]\n",
            " [ 1.13168021  3.70381006]\n",
            " [-1.89924715  2.9803531 ]\n",
            " [ 0.25811522  2.96969335]\n",
            " [-0.52177538  3.71449831]\n",
            " [ 1.8706589   3.41329849]\n",
            " [-1.09917096  2.15273099]\n",
            " [ 0.88707009  3.900423  ]\n",
            " [-0.14294067  2.65757096]\n",
            " [ 1.49962331  2.46658537]\n",
            " [-1.72033053  3.22519954]\n",
            " [ 0.13072752  3.02071931]\n",
            " [-0.90221591  2.29530826]\n",
            " [ 1.74034199  2.58102232]\n",
            " [-1.47668133  3.85317124]\n",
            " [ 0.50176308  2.10916244]\n",
            " [-0.28105637  3.33262057]\n",
            " [ 1.11138709  3.53909573]\n",
            " [-1.85551606  2.76890013]\n",
            " [ 0.39719433  3.6623168 ]\n",
            " [-0.63351845  2.90370314]\n",
            " [ 1.97410306  2.22066716]\n",
            " [-1.24557623  3.46351876]\n",
            " [ 0.7682242   2.71561179]\n",
            " [-0.01236842  3.97617885]\n",
            " [ 1.3451234   3.15140397]\n",
            " [-1.62443192  2.40659951]\n",
            " [ 0.02652038  2.33199447]\n",
            " [-0.75504772  3.10218955]\n",
            " [ 1.60245303  3.76973976]\n",
            " [-1.36612847  2.54628209]\n",
            " [ 0.65550008  3.29007503]\n",
            " [-0.37619201  2.01792656]\n",
            " [ 1.23142319  2.858191  ]\n",
            " [-1.98727847  3.58360154]\n",
            " [ 0.32828328  3.46911345]\n",
            " [-0.57633373  2.21391865]\n",
            " [ 1.78506524  2.91369516]\n",
            " [-1.06046759  3.6531279 ]\n",
            " [ 0.95725344  2.40100266]\n",
            " [-0.19748373  3.15815085]\n",
            " [ 1.41404494  3.96618846]\n",
            " [-1.68161187  2.72480287]\n",
            " [ 0.21653477  2.52111622]\n",
            " [-0.94113293  3.79570493]\n",
            " [ 1.67038752  3.08044266]\n",
            " [-1.42233662  2.35259135]\n",
            " [ 0.5875551   3.60876577]\n",
            " [-0.31998862  2.83222366]\n",
            " [ 1.04141739  2.03967562]\n",
            " [-1.80118659  3.26947979]\n",
            " [ 0.45201197  2.16271371]\n",
            " [-0.70397631  3.40409981]\n",
            " [ 1.93468242  3.72008751]\n",
            " [-1.15929581  2.96293887]\n",
            " [ 0.82305706  3.21521512]\n",
            " [-0.08281105  2.47578194]\n",
            " [ 1.30571798  2.65198387]\n",
            " [-1.53813627  3.90717917]\n",
            " [ 0.06572744  3.83141458]\n",
            " [-0.84111449  2.6016099 ]\n",
            " [ 1.5474218   2.27013643]\n",
            " [-1.29545696  3.046679  ]\n",
            " [ 0.69469185  2.79065468]\n",
            " [-0.46227406  3.51850645]\n",
            " [ 1.17637668  3.3577941 ]\n",
            " [-1.91662224  2.08320487]\n",
            " [ 0.2943939   3.98792779]\n",
            " [-0.5502569   2.69623345]\n",
            " [ 1.84248641  2.42616137]\n",
            " [-1.06320122  3.13983772]\n",
            " [ 0.91543141  2.88414146]\n",
            " [-0.17909924  3.67388288]\n",
            " [ 1.46352963  3.45176917]\n",
            " [-1.69203402  2.24004615]\n",
            " [ 0.15713377  2.00623865]\n",
            " [-0.93641947  3.30975854]\n",
            " [ 1.70620332  3.56410071]\n",
            " [-1.45033988  2.87006243]\n",
            " [ 0.53609058  3.12169019]\n",
            " [-0.30758664  2.32012322]\n",
            " [ 1.08516585  2.55797065]\n",
            " [-1.82149751  3.7500556 ]\n",
            " [ 0.42529629  2.67713353]\n",
            " [-0.66944809  3.88885603]\n",
            " [ 1.93774995  3.23694824]\n",
            " [-1.21705089  2.44720728]\n",
            " [ 0.80427405  3.70274847]\n",
            " [-0.04059049  2.98907257]\n",
            " [ 1.31672198  2.13317003]\n",
            " [-1.58820283  3.42486385]\n",
            " [ 0.06061905  3.31311903]\n",
            " [-0.78131856  2.12103458]\n",
            " [ 1.57600286  2.75721247]\n",
            " [-1.33185056  3.558779  ]\n",
            " [ 0.68164698  2.30699706]\n",
            " [-0.41016664  3.00103491]\n",
            " [ 1.19702507  3.87267117]\n",
            " [-1.96070819  2.56915178]\n",
            " [ 0.36433312  2.48734801]\n",
            " [-0.60455582  3.19565344]\n",
            " [ 1.75666391  3.92655816]\n",
            " [-1.02423842  2.64023427]\n",
            " [ 0.98535533  3.38472147]\n",
            " [-0.23341345  2.17446265]\n",
            " [ 1.37769184  2.95137262]\n",
            " [-1.65308651  3.73964936]\n",
            " [ 0.24268165  3.5066352 ]\n",
            " [-0.97510758  2.81015533]\n",
            " [ 1.63598948  2.0635207 ]\n",
            " [-1.39576627  3.36948266]\n",
            " [ 0.62165369  2.62129341]\n",
            " [-0.34625952  3.81972668]\n",
            " [ 1.01496724  3.05855042]\n",
            " [-1.76690867  2.25063561]\n",
            " [ 0.48037329  3.17753008]\n",
            " [-0.74013486  2.38925282]\n",
            " [ 1.89858867  2.73636822]\n",
            " [-1.13099938  3.9466275 ]\n",
            " [ 0.85933583  2.20235168]\n",
            " [-0.11129249  3.48867603]\n",
            " [ 1.27754548  3.6337498 ]\n",
            " [-1.50216654  2.92544386]\n",
            " [ 0.10005496  2.81253926]\n",
            " [-0.86764475  3.62045457]\n",
            " [ 1.52120049  3.25760926]\n",
            " [-1.26143847  2.05917555]\n",
            " [ 0.72109817  3.80757708]\n",
            " [-0.49647755  2.50161468]\n",
            " [ 1.14223799  2.37227462]\n",
            " [-1.89028082  3.06875499]]\n"
          ]
        },
        {
          "output_type": "display_data",
          "data": {
            "image/png": "[encoded data removed]",
            "text/plain": [
              "<Figure size 360x396 with 1 Axes>"
            ]
          },
          "metadata": {
            "needs_background": "light"
          }
        }
      ]
    },
    {
      "cell_type": "markdown",
      "metadata": {
        "id": "DMDDTRcKv55v"
      },
      "source": [
        "#### Gaussian\n",
        "\n",
        "A similar process can be followed for constructing points that mimic a multivariate Gaussian distribution. The transformation used here assigns the directions with the larger variance to the lower numbered coordinates of the LD sequence via principal component analysis (PCA) or equivalently an eigvenvector-eigenvalue decomposition of the covariance matrix.  This takes advantage of the fact that the lower numbered coordinates of an LD sequence tend to have better evenness."
      ]
    },
    {
      "cell_type": "code",
      "metadata": {
        "id": "pudZRbKjtP5G",
        "colab": {
          "base_uri": "https://localhost:8080/"
        },
        "outputId": "8a18aa0a-ff65-4fc7-cd0a-5c2cef03a1e6"
      },
      "source": [
        "ld = qmcpy.Lattice(2)\n",
        "gaussian_ld = qmcpy.Gaussian(ld, mean=[3,2], covariance=[[9,5], [5,4]])  #specify the desired mean and covariance of your multivariate Gaussian distribution\n",
        "points = gaussian_ld.gen_samples(2**8)\n",
        "print(gaussian_ld)\n",
        "print(f'\\nGaussian LD Points with shape {points.shape}\\n'+str(points))  #these points have 15 significant digit precision but only three digits are shown\n",
        "plot_successive_points(gaussian_ld,'Gaussian LD',first_n=2**8,xlim=[-6,12],ylim=[-2,6])"
      ],
      "execution_count": null,
      "outputs": [
        {
          "output_type": "stream",
          "name": "stdout",
          "text": [
            "Gaussian (TrueMeasure Object)\n",
            "    mean            [3 2]\n",
            "    covariance      [[9 5]\n",
            "                    [5 4]]\n",
            "    decomp_type     PCA\n",
            "\n",
            "Gaussian LD Points with shape (256, 2)\n",
            "[[ 7.50219498  4.64003606]\n",
            " [ 1.68077264  3.02308945]\n",
            " [ 4.14829711  3.29592334]\n",
            " [ 0.7522451  -0.33513124]\n",
            " [ 6.30168832  2.4219891 ]\n",
            " [ 1.42473739  1.23691357]\n",
            " [ 3.66189401  1.8985374 ]\n",
            " [-2.10970615 -0.11240386]\n",
            " [ 5.98509921  4.64392062]\n",
            " [ 2.34410017  0.87995416]\n",
            " [ 5.04227546  0.72932521]\n",
            " [-0.47900739 -0.11656036]\n",
            " [ 5.0998786   2.97565799]\n",
            " [ 0.35845802  1.72473682]\n",
            " [ 2.7929776   2.2648618 ]\n",
            " [11.33724173  5.92582028]\n",
            " [ 7.45158843  3.34987453]\n",
            " [ 2.13166204  1.76398647]\n",
            " [ 4.3413908   2.41415439]\n",
            " [-0.57217758  0.98219777]\n",
            " [ 4.94598067  3.89220534]\n",
            " [ 1.61919367  0.32070372]\n",
            " [ 2.1632736   3.80216348]\n",
            " [-2.67389975 -1.56093989]\n",
            " [ 6.03914197  3.64673138]\n",
            " [ 1.07758598  2.37392914]\n",
            " [ 3.45127973  2.7666119 ]\n",
            " [-0.49234169 -1.23632584]\n",
            " [ 5.53589439  1.64450523]\n",
            " [ 0.60648138  0.64237704]\n",
            " [ 3.00944351  1.39576164]\n",
            " [ 7.9310463   5.96430342]\n",
            " [ 7.40549197  4.06108769]\n",
            " [ 2.00188862  2.23984096]\n",
            " [ 4.24728923  2.84842599]\n",
            " [ 1.1118308  -1.31735122]\n",
            " [ 4.76240824  4.54284462]\n",
            " [ 1.50973076  0.80233866]\n",
            " [ 3.83102598  1.36372971]\n",
            " [-2.28639296 -0.8273073 ]\n",
            " [ 6.0174018   4.12021451]\n",
            " [ 2.57341377  0.23343857]\n",
            " [ 3.28997692  3.29465051]\n",
            " [-0.49866847 -0.62457842]\n",
            " [ 5.20951276  2.48089496]\n",
            " [ 0.5311032   1.11134171]\n",
            " [ 2.89670244  1.83785941]\n",
            " [ 8.1744382   7.23075088]\n",
            " [ 5.81713208  5.42852683]\n",
            " [ 2.22958501  1.33698729]\n",
            " [ 4.48357437  1.90670873]\n",
            " [-0.48358419  0.38347979]\n",
            " [ 5.02819231  3.41942772]\n",
            " [ 1.89450123 -0.43780763]\n",
            " [ 2.64643958  2.76102972]\n",
            " [-3.48425225 -2.56724187]\n",
            " [ 6.09574298  3.14392688]\n",
            " [ 1.3163354   1.70282697]\n",
            " [ 3.5556674   2.33308301]\n",
            " [-2.6250999   1.52893455]\n",
            " [ 3.97369089  3.87184839]\n",
            " [ 0.66363879  0.18785971]\n",
            " [ 3.20598834  0.81715506]\n",
            " [ 7.67882299  5.23810776]\n",
            " [ 7.44250094  4.3541712 ]\n",
            " [ 1.89436778  2.54589627]\n",
            " [ 4.20124237  3.06588367]\n",
            " [ 0.84675056 -0.68541665]\n",
            " [ 4.35397713  5.38639688]\n",
            " [ 1.46727945  1.02042514]\n",
            " [ 3.73170555  1.65484328]\n",
            " [-2.17234217 -0.48043385]\n",
            " [ 6.00600874  4.36977407]\n",
            " [ 2.42981996  0.60402029]\n",
            " [ 3.12352689  3.69855359]\n",
            " [-0.48816937 -0.36498155]\n",
            " [ 5.14582089  2.74142329]\n",
            " [ 0.46758012  1.38265252]\n",
            " [ 2.8464172   2.048847  ]\n",
            " [10.49218879  4.79691028]\n",
            " [ 7.72734453  2.61315271]\n",
            " [ 2.18138122  1.54962674]\n",
            " [ 4.40126023  2.17805198]\n",
            " [-0.51010151  0.65823199]\n",
            " [ 4.99150442  3.64706174]\n",
            " [ 1.71148816  0.01598056]\n",
            " [ 2.51450943  3.10411333]\n",
            " [-2.98987015 -2.00126303]\n",
            " [ 6.05973714  3.40472514]\n",
            " [ 1.22978948  1.98592716]\n",
            " [ 3.50595057  2.54556654]\n",
            " [-0.42512495 -1.6755131 ]\n",
            " [ 3.74604061  4.38944461]\n",
            " [ 0.63466693  0.4177808 ]\n",
            " [ 3.08758453  1.13917119]\n",
            " [ 7.79528887  5.57521383]\n",
            " [ 7.39987239  3.74160544]\n",
            " [ 2.0747251   1.98935533]\n",
            " [ 4.29226682  2.63402532]\n",
            " [-0.73004589  1.45365218]\n",
            " [ 4.87994922  4.17398897]\n",
            " [ 1.5576398   0.57355664]\n",
            " [ 4.01146206  0.94164312]\n",
            " [-2.44978291 -1.17998052]\n",
            " [ 6.02673121  3.88224359]\n",
            " [ 3.16330697 -0.8603526 ]\n",
            " [ 3.38416414  3.00839758]\n",
            " [-0.50420394 -0.90750918]\n",
            " [ 5.31137749  2.16086821]\n",
            " [ 0.57399096  0.87018734]\n",
            " [ 2.9490448   1.62341671]\n",
            " [ 8.08083028  6.45281982]\n",
            " [ 5.93930134  4.9686325 ]\n",
            " [ 2.28153702  1.1174869 ]\n",
            " [ 4.61921556  1.55008009]\n",
            " [-0.47580854  0.12977874]\n",
            " [ 5.06259518  3.19848053]\n",
            " [ 0.07291145  2.34948025]\n",
            " [ 2.729986    2.49630517]\n",
            " [-4.57102332 -3.53414139]\n",
            " [ 6.16150954  2.84058682]\n",
            " [ 1.37680582  1.46048976]\n",
            " [ 3.6058236   2.12037788]\n",
            " [-2.12681397  0.33752597]\n",
            " [ 4.07929976  3.55345468]\n",
            " [ 0.69945017 -0.05751525]\n",
            " [ 3.46772293  0.26289356]\n",
            " [ 7.58126056  4.93096136]\n",
            " [ 6.68951624  5.7596856 ]\n",
            " [ 2.59219399  1.48264248]\n",
            " [ 4.8841065   2.03298897]\n",
            " [ 0.08334846  0.64915582]\n",
            " [ 5.49615401  3.63127648]\n",
            " [ 2.41842569 -0.44452391]\n",
            " [ 3.01458324  2.88049573]\n",
            " [-1.45400607 -1.40136036]\n",
            " [ 6.67712046  3.4028362 ]\n",
            " [ 1.70309804  1.84862031]\n",
            " [ 3.91825895  2.48023316]\n",
            " [-1.45788605  1.33723543]\n",
            " [ 4.41296304  4.00684778]\n",
            " [ 1.1300163   0.39393141]\n",
            " [ 3.59994043  0.89440113]\n",
            " [ 9.9877397   6.58529921]\n",
            " [ 6.67983191  4.45130574]\n",
            " [ 3.00459623  0.2846806 ]\n",
            " [ 3.67935812  3.41559064]\n",
            " [ 0.1552155  -0.30552487]\n",
            " [ 5.66026481  2.65031065]\n",
            " [ 0.9697832   1.29405353]\n",
            " [ 3.25006847  1.97880467]\n",
            " [-3.66597354 -0.39747814]\n",
            " [ 5.31114185  4.71951523]\n",
            " [ 1.90402027  0.96602575]\n",
            " [ 4.21601786  1.46287471]\n",
            " [-1.20712386 -0.24217479]\n",
            " [ 4.64182634  3.0153457 ]\n",
            " [ 2.3788282  -2.31434888]\n",
            " [ 2.36892467  2.36709673]\n",
            " [ 8.5372811   4.66671518]\n",
            " [ 6.72055604  5.00226646]\n",
            " [ 2.71834311  1.01434884]\n",
            " [ 3.16719859  4.52507641]\n",
            " [ 0.12308219  0.17867986]\n",
            " [ 5.55260487  3.17446052]\n",
            " [ 0.81145176  1.85678694]\n",
            " [ 3.14812324  2.40359098]\n",
            " [-1.60585181 -2.22427083]\n",
            " [ 6.92059288  2.54640478]\n",
            " [ 1.81085124  1.39776884]\n",
            " [ 4.0260026   2.03672166]\n",
            " [-1.18663782  0.34468797]\n",
            " [ 4.55553496  3.46117634]\n",
            " [ 1.25218262 -0.14085064]\n",
            " [ 2.11197178  3.04272375]\n",
            " [ 8.95981126  5.46300892]\n",
            " [ 6.65141038  3.94598278]\n",
            " [ 1.49842815  2.45240744]\n",
            " [ 3.82018054  2.91140386]\n",
            " [ 0.2427849  -0.91114512]\n",
            " [ 6.14248369  1.53346478]\n",
            " [ 1.05424051  0.84202507]\n",
            " [ 3.36915489  1.52687402]\n",
            " [-4.55959526 -1.85884185]\n",
            " [ 5.43952702  4.10657194]\n",
            " [ 2.03263221  0.47177195]\n",
            " [ 2.68000097  3.68410803]\n",
            " [-1.30653333 -0.7929958 ]\n",
            " [ 4.73149162  2.57173379]\n",
            " [-0.01790671  1.19747882]\n",
            " [ 2.49171862  1.90752943]\n",
            " [ 8.43705365  3.77223235]\n",
            " [ 6.72696415  5.33211841]\n",
            " [ 2.64836224  1.2599314 ]\n",
            " [ 5.05191277  1.61782234]\n",
            " [ 0.10673517  0.41117911]\n",
            " [ 5.52177273  3.40499228]\n",
            " [ 0.61563755  2.32393669]\n",
            " [ 3.08937086  2.62892018]\n",
            " [-1.53675746 -1.76557787]\n",
            " [ 6.74049604  3.06469963]\n",
            " [ 1.76180126  1.61590661]\n",
            " [ 3.96805474  2.26469341]\n",
            " [-1.23967551  0.7144692 ]\n",
            " [ 4.4979272   3.71070796]\n",
            " [ 1.17958036  0.14673727]\n",
            " [ 4.08880048 -0.02617085]\n",
            " [ 9.3364949   5.93877078]\n",
            " [ 6.66176745  4.19782469]\n",
            " [ 1.17745638  3.10678465]\n",
            " [ 3.76018465  3.14612638]\n",
            " [ 0.18448727 -0.58046325]\n",
            " [ 5.77742918  2.2908857 ]\n",
            " [ 1.01584876  1.06300997]\n",
            " [ 3.30428584  1.761408  ]\n",
            " [-3.91885729 -1.10527134]\n",
            " [ 5.39347977  4.38074933]\n",
            " [ 1.95940162  0.73402947]\n",
            " [ 4.46261241  0.93157049]\n",
            " [-1.24955945 -0.51575777]\n",
            " [ 4.68353728  2.79769378]\n",
            " [-0.14569363  1.58943554]\n",
            " [ 2.43652951  2.1274211 ]\n",
            " [ 8.43728996  4.26492968]\n",
            " [ 6.7012881   4.71555188]\n",
            " [ 2.81856339  0.71925808]\n",
            " [ 3.54831594  3.76742028]\n",
            " [ 0.13745343 -0.05710832]\n",
            " [ 5.59502834  2.92904691]\n",
            " [ 0.90762984  1.54892403]\n",
            " [ 3.19976403  2.19001767]\n",
            " [-1.52860926 -3.02277133]\n",
            " [ 5.09858145  5.2754211 ]\n",
            " [ 1.85652713  1.18396912]\n",
            " [ 4.10150528  1.7810408 ]\n",
            " [-1.18332211  0.03890702]\n",
            " [ 4.60095913  3.23354965]\n",
            " [ 1.3846528  -0.52865964]\n",
            " [ 2.27482607  2.64938685]\n",
            " [ 8.70817222  5.05358224]\n",
            " [ 6.65377011  3.68592944]\n",
            " [ 1.62409748  2.11320688]\n",
            " [ 3.87070521  2.69296901]\n",
            " [ 0.39469277 -1.4031022 ]\n",
            " [ 4.25225097  4.42806055]\n",
            " [ 1.090551    0.62188322]\n",
            " [ 3.45679702  1.25554009]\n",
            " [12.85737441  8.61636701]\n",
            " [ 5.47066324  3.86189189]\n",
            " [ 2.14735377  0.14090368]\n",
            " [ 2.90410614  3.1901714 ]\n",
            " [-1.37553018 -1.08402346]\n",
            " [ 4.79330722  2.32502443]\n",
            " [ 0.04609847  0.90415418]\n",
            " [ 2.54182083  1.69551082]\n",
            " [ 6.31213824  6.76993894]]\n"
          ]
        },
        {
          "output_type": "display_data",
          "data": {
            "image/png": "[encoded data removed]",
            "text/plain": [
              "<Figure size 360x396 with 1 Axes>"
            ]
          },
          "metadata": {
            "needs_background": "light"
          }
        }
      ]
    },
    {
      "cell_type": "markdown",
      "metadata": {
        "id": "lcgMPIqo4i0-"
      },
      "source": [
        "[TransformedLD]: https://arxiv.org/abs/2004.09887 \"Li, Y., Kang, L., and  Hickernell,  F. J. Is a Transformed Low Discrepancy Design Also Low Discrepancy? in Contemporary Experimental Design, Multivariate Analysis and Data Mining, Festschrift in Honour of Professor Kai-Tai Fang (J. Fan and J. Pan, eds.), p. 69–92, 2020.\"\n",
        "\n",
        "Transformations of low discrepancy sequences often have good properties, but may not be low discrepancy themselves, depending on your definition of discrepancy as shown by [Yiou Li and Lulu Kang][TransformedLD]."
      ]
    },
    {
      "cell_type": "markdown",
      "metadata": {
        "id": "azx_-HNzb6m5"
      },
      "source": [
        "**_Pause for questions_**"
      ]
    },
    {
      "cell_type": "markdown",
      "metadata": {
        "id": "iaAiqS7ccQ2v"
      },
      "source": [
        "## Integration\n",
        "\n",
        "[Kesiter]: https://aip.scitation.org/doi/pdf/10.1063/1.168565 \"Keister, B. D. Multidimensional Quadrature Algorithms. Computers in Physics 10, 119–122 (1996).\"\n",
        "\n",
        "Cubature—the approximation of multivariate integrals—is an important application area for QMC. To solve this problem we need the ``Integrand`` and ``StoppingCriterion`` classes.\n",
        "\n",
        "Consider the followng $d$-variate integral due to [Keister][Kesiter]:\n",
        "\\begin{equation*}\n",
        "\\mu = \\int_{\\mathbb{R}^d} \\cos(\\lVert\\boldsymbol{t}\\rVert) \\exp( - \\lVert \\boldsymbol{t} \\rVert^2) \\,  \\mathrm{d} \\boldsymbol{t},\n",
        "\\end{equation*}\n",
        "where $\\lVert \\cdot \\rVert$ is the Euclidean norm.  To approximate this integral via (Q)MC methods, it needs to be written as the integral with respect to a probability measure, e.g., \n",
        "\\begin{equation*}\n",
        "\\mu = \\int_{\\mathbb{R}^d} \\underbrace{\\pi^{d/2} \\cos(\\lVert\\boldsymbol{t}\\rVert)}_{g(\\boldsymbol{t})} \\; \\underbrace{\\pi^{-d/2} \\exp( - \\lVert \\boldsymbol{t} \\rVert^2) \\,  \\mathrm{d} \\boldsymbol{t}}_{\\mathcal{N}(\\boldsymbol{0}_d,\\mathsf{I}_d/2) \\text{ measure}}.\n",
        "\\end{equation*}\n",
        "Using transformation techniques highlighted above, this integral can be further transformed to an integral over the unit cube, which is suitable for certain stopping criteria:\n",
        "\\begin{equation*}\n",
        "\\mu = \\int_{[0,1]^d} \\underbrace{\\pi^{d/2}  \\cos\\left(\\sqrt{ \\frac 12 \\sum_{j=1}^d \\bigl[\\Phi^{-1}(x_j)\\bigr]^2}\\right)}_{f(\\boldsymbol{x})}  \\, \\rm d \\boldsymbol{x}. \n",
        "\\end{equation*}\n",
        "\n",
        "Although it may seem counter-intuitive, we set up our numerical problem by\n",
        "\n",
        "* first choosing the ``DiscreteDistribution`` object, \n",
        "* next the ``TrueMeasure`` object, \n",
        "* thirdly choosing ``Integrand`` object, and \n",
        "* finally the ``StoppingCriterion`` object."
      ]
    },
    {
      "cell_type": "code",
      "metadata": {
        "id": "_w1FeeDRcbok"
      },
      "source": [
        "d = 5  #coded as parameters so that \n",
        "tol = 1e-3  #you can change here and propagate them through this example\n",
        "lattice = qmcpy.Lattice(d)\n",
        "gaussian_lattice = qmcpy.Gaussian(lattice, mean = 0, covariance = 1/2)  #mean and covariance of the distribution identified above"
      ],
      "execution_count": null,
      "outputs": []
    },
    {
      "cell_type": "markdown",
      "metadata": {
        "id": "HXqFIrY-kKky"
      },
      "source": [
        "### ``Integrand`` objects\n",
        "\n",
        "The ``TrueMeasure`` object becomes input to an ``Integrand`` object, which transforms our original integrand, $g$, to our eventual integrand, $f$.  This transformation relies on the ``TrueMeasure`` object along with its corresponding ``DiscreteDistribution`` object.  The object ``qmcpy.Keister`` has already been coded as a use case in ``qmcpy``."
      ]
    },
    {
      "cell_type": "code",
      "metadata": {
        "id": "x4xC0suLkGCf"
      },
      "source": [
        "keister = qmcpy.Keister(gaussian_lattice) #transform the original integrand to the eventual one"
      ],
      "execution_count": null,
      "outputs": []
    },
    {
      "cell_type": "markdown",
      "metadata": {
        "id": "lerpTkUtkMNn"
      },
      "source": [
        "### ``StoppingCriterion`` objects and the ``integrate`` method\n",
        "\n",
        "[CubQMCLatticeG]: https://arxiv.org/abs/1411.1966 \"Jiménez Rugama, Ll. A. & Hickernell, F. J. Adaptive  Multidimensional  Integration  Based  on  Rank-1  Lattices in Monte  Carlo  and  Quasi-Monte  Carlo Methods: MCQMC, Leuven, Belgium, April 2014 (eds Cools, R. & Nuyens,D.) 163.arXiv:1411.1966 (Springer-Verlag, Berlin, 2016), 407–422.\"\n",
        "\n",
        "Determining the sample size needed requires a stopping criterion, which typically depends on the error tolerance, ``abs_tol``.  The stopping criterion attempts to produce the answer satisfying the error tolerance with not much more work than is truly needed. There are several ``StoppingCriterion`` objects available, but they tend to work for specific LD sequences.  This one comes from [Tony Jiménez Rugama][CubQMCLatticeG].  It takes as its input the ``Integrand`` object, which carries information about the ``TrueMeasure`` object and its ``DiscreteDistribution`` object. "
      ]
    },
    {
      "cell_type": "code",
      "metadata": {
        "id": "xNaRz44KkGZt"
      },
      "source": [
        "keister_lattice_gauss_g = qmcpy.CubQMCLatticeG(keister, abs_tol = tol)  #using Tony's stopping criterion"
      ],
      "execution_count": null,
      "outputs": []
    },
    {
      "cell_type": "markdown",
      "metadata": {
        "id": "h09IBoHscjaY"
      },
      "source": [
        "Invoking the ``integrate`` method returns the numerical solution and a data object. Printing the data object provides a neat summary of the integration problem. For details of the output fields, see the online, searchable QMCPy Documentation at [https://qmcpy.readthedocs.io/](https://qmcpy.readthedocs.io/en/latest/algorithms.html#module-qmcpy.integrand.keister)."
      ]
    },
    {
      "cell_type": "code",
      "metadata": {
        "id": "bvo8WUAociQk",
        "colab": {
          "base_uri": "https://localhost:8080/"
        },
        "outputId": "e355bb54-2e9c-4721-91b0-1f32ab23a994"
      },
      "source": [
        "solution, data = keister_lattice_gauss_g.integrate()\n",
        "print(data)"
      ],
      "execution_count": null,
      "outputs": [
        {
          "output_type": "stream",
          "name": "stdout",
          "text": [
            "LDTransformData (AccumulateData Object)\n",
            "    solution        1.136\n",
            "    error_bound     5.69e-04\n",
            "    n_total         2^(17)\n",
            "    time_integrate  0.457\n",
            "CubQMCLatticeG (StoppingCriterion Object)\n",
            "    abs_tol         0.001\n",
            "    rel_tol         0\n",
            "    n_init          2^(10)\n",
            "    n_max           2^(35)\n",
            "Keister (Integrand Object)\n",
            "Gaussian (TrueMeasure Object)\n",
            "    mean            0\n",
            "    covariance      2^(-1)\n",
            "    decomp_type     PCA\n",
            "    transform       Gaussian (TrueMeasure Object)\n",
            "                       mean            0\n",
            "                       covariance      2^(-1)\n",
            "                       decomp_type     PCA\n",
            "Lattice (DiscreteDistribution Object)\n",
            "    d               5\n",
            "    dvec            [0 1 2 3 4]\n",
            "    randomize       1\n",
            "    order           natural\n",
            "    entropy         125825724872527476569644517462087311005\n",
            "    spawn_key       ()\n"
          ]
        }
      ]
    },
    {
      "cell_type": "markdown",
      "metadata": {
        "id": "Tp1gEJNvHrCH"
      },
      "source": [
        "#### Fixed sample budget computation\n",
        "\n",
        "If you are not concerned about meeting an error tolerance but can only afford ``n_max`` function values, then you can set an ``abs_tol`` small enough and set ``n_max`` to your desired sample size.  You will get an error bound. "
      ]
    },
    {
      "cell_type": "code",
      "metadata": {
        "id": "qqQBnGnpdQGG",
        "colab": {
          "base_uri": "https://localhost:8080/"
        },
        "outputId": "7d9a57a6-c4fb-40f8-f4cc-45ef1ed8940d"
      },
      "source": [
        "warnings.simplefilter(\"ignore\")\n",
        "keister_lattice_gauss_g_small_n = qmcpy.CubQMCLatticeG(keister, abs_tol = 1e-6, n_max = 2**12)  #the default n_max is 2**35\n",
        "solution, data = keister_lattice_gauss_g_small_n.integrate()\n",
        "print(data)"
      ],
      "execution_count": null,
      "outputs": [
        {
          "output_type": "stream",
          "name": "stdout",
          "text": [
            "LDTransformData (AccumulateData Object)\n",
            "    solution        1.139\n",
            "    error_bound     0.017\n",
            "    n_total         2^(12)\n",
            "    time_integrate  0.024\n",
            "CubQMCLatticeG (StoppingCriterion Object)\n",
            "    abs_tol         1.00e-06\n",
            "    rel_tol         0\n",
            "    n_init          2^(10)\n",
            "    n_max           2^(12)\n",
            "Keister (Integrand Object)\n",
            "Gaussian (TrueMeasure Object)\n",
            "    mean            0\n",
            "    covariance      2^(-1)\n",
            "    decomp_type     PCA\n",
            "    transform       Gaussian (TrueMeasure Object)\n",
            "                       mean            0\n",
            "                       covariance      2^(-1)\n",
            "                       decomp_type     PCA\n",
            "Lattice (DiscreteDistribution Object)\n",
            "    d               5\n",
            "    dvec            [0 1 2 3 4]\n",
            "    randomize       1\n",
            "    order           natural\n",
            "    entropy         125825724872527476569644517462087311005\n",
            "    spawn_key       ()\n"
          ]
        }
      ]
    },
    {
      "cell_type": "markdown",
      "metadata": {
        "id": "TfKJMMnwo_6k"
      },
      "source": [
        "#### QMC is much faster than MC. (Q)MC cost is mostly dimension dependent\n",
        "\n",
        "Run this next code block to see how the run time and the number of function evaluations increase as the tolerance decreases. QMC using LD sequences uses much less time and much fewer function values than MC using IID sequences. \n",
        "\n",
        "Tensor product rules have a time or function value cost that is $\\mathcal{O}(\\varepsilon^{-d/r})$, where $\\varepsilon$ is the error tolerance and $r$ is bounded above by both the smoothness of the integrand and the quality of the algorithm.  Such rules have a _curse of dimensionality_ because their cost blows up exponentially with dimension.\n",
        "\n",
        "Unlike tensor product cubature rules, the cost of (Q)MC cubature is essentially dimension independent: $\\mathcal{O}(\\varepsilon^{-2})$ for IID MC and typically $\\mathcal{O}(\\varepsilon^{-1-\\delta})$ for QMC.  Although Q(MC) is not particularly fast, its performance usually does not degrade as the number of variables of in the integrand increases."
      ]
    },
    {
      "cell_type": "code",
      "metadata": {
        "id": "EzaSx-P5UWHY",
        "colab": {
          "base_uri": "https://localhost:8080/",
          "height": 436
        },
        "outputId": "2dc5b0eb-310c-4aa1-b185-f6024a1221ea"
      },
      "source": [
        "d = 5; tol = 2.5e-3  #re-construct the example\n",
        "#d = 7; tol = 3e-3  #if you change the dimension\n",
        "#d = 10; tol = 3e-2  #you may also wish to change the tolerance, since the value of the integral changes\n",
        "ld_keister = qmcpy.Keister(qmcpy.Gaussian(qmcpy.Lattice(d), mean = 0, covariance = 1/2))  #mean and covariance of the distribution identified above\n",
        "iid_keister =  qmcpy.Keister(qmcpy.Gaussian(qmcpy.IIDStdUniform(d), mean = 0, covariance = 1/2))\n",
        "\n",
        "n_tol = 7\n",
        "ii_iid = 2  #make this larger to reduce the time required\n",
        "tol_vec = [tol*2**(ii) for ii in range(n_tol)]  #initialize\n",
        "ld_time = [0]*n_tol; ld_n = [0]*n_tol  #low discrepancy time and number of function values\n",
        "iid_time = [0]*n_tol; iid_n = [0]*n_tol  #IID time and number of function values\n",
        "for ii in range(n_tol):\n",
        "  solution, data = qmcpy.CubQMCLatticeG(ld_keister, abs_tol = tol_vec[ii]).integrate()\n",
        "  if ii == 0: \n",
        "    print(f'\\nKeister integral = {solution}\\n')\n",
        "  ld_time[ii] = data.time_integrate\n",
        "  ld_n[ii] = data.n_total\n",
        "  if ii >= ii_iid:\n",
        "    solution, data = qmcpy.CubMCG(iid_keister, abs_tol = tol_vec[ii]).integrate()\n",
        "    iid_time[ii] = data.time_integrate\n",
        "    iid_n[ii] = data.n_total\n",
        "fig,ax = pyplot.subplots(nrows=1,ncols=2,figsize=(13,5.5))\n",
        "ax[0].scatter(tol_vec[0:n_tol],ld_time[0:n_tol],color='b'); \n",
        "ax[0].plot(tol_vec[0:n_tol],[(ld_time[0]*tol_vec[0])/tol_vec[jj] for jj in range(n_tol)],color='b')\n",
        "ax[0].scatter(tol_vec[ii_iid:n_tol],iid_time[ii_iid:n_tol],color='g'); \n",
        "ax[0].plot(tol_vec[ii_iid:n_tol],[(iid_time[ii_iid]*(tol_vec[ii_iid]**2))/(tol_vec[jj]**2) for jj in range(ii_iid,n_tol)],color='g')\n",
        "ax[0].set_ylim([0.001,1000]); ax[0].set_ylabel('Time (s)')\n",
        "ax[1].scatter(tol_vec[0:n_tol],ld_n[0:n_tol],color='b'); \n",
        "ax[1].plot(tol_vec[0:n_tol],[(ld_n[0]*tol_vec[0])/tol_vec[jj] for jj in range(n_tol)],color='b')\n",
        "ax[1].scatter(tol_vec[ii_iid:n_tol],iid_n[ii_iid:n_tol],color='g'); \n",
        "ax[1].plot(tol_vec[ii_iid:n_tol],[(iid_n[ii_iid]*(tol_vec[ii_iid]**2))/(tol_vec[jj]**2) for jj in range(ii_iid,n_tol)],color='g')\n",
        "ax[1].set_ylim([1e2,1e8]); ax[1].set_ylabel('n')\n",
        "for ii in range(2):\n",
        "  ax[ii].set_xlim([tol,100*tol]); ax[ii].set_xlabel('Tolerance, '+r'$\\varepsilon$')\n",
        "  ax[ii].set_xscale('log'); ax[ii].set_yscale('log')\n",
        "  ax[ii].legend([r'$\\mathcal{O}(\\varepsilon^{-1})$',r'$\\mathcal{O}(\\varepsilon^{-2})$','LD','IID'],frameon=False)\n",
        "  ax[ii].set_aspect(0.35)"
      ],
      "execution_count": null,
      "outputs": [
        {
          "output_type": "stream",
          "name": "stdout",
          "text": [
            "\n",
            "Keister integral = 1.1334278993994618\n",
            "\n"
          ]
        },
        {
          "output_type": "display_data",
          "data": {
            "image/png": "[encoded data removed]",
            "text/plain": [
              "<Figure size 936x396 with 2 Axes>"
            ]
          },
          "metadata": {
            "needs_background": "light"
          }
        }
      ]
    },
    {
      "cell_type": "markdown",
      "metadata": {
        "id": "xjYc-Lco8mfm"
      },
      "source": [
        "### Alternatives for ``StoppingCriterion``\n",
        "\n",
        "Other ``StoppingCriterion`` objects are available.  Most are tied to particular ``DiscreteDistribution`` objects.  For LD points one can use replications and the Central Limit Theorem (CLT)."
      ]
    },
    {
      "cell_type": "code",
      "metadata": {
        "id": "jlMvENFj83_Q",
        "colab": {
          "base_uri": "https://localhost:8080/"
        },
        "outputId": "5a8ab21d-fbd1-4bf8-a2af-15f617c7b7da"
      },
      "source": [
        "keister_lattice_gauss_CLT = qmcpy.CubQMCCLT(keister, abs_tol = tol)  #using a CLT stopping criterion with random replications\n",
        "solution, data = keister_lattice_gauss_CLT.integrate()\n",
        "print(data)"
      ],
      "execution_count": null,
      "outputs": [
        {
          "output_type": "stream",
          "name": "stdout",
          "text": [
            "MeanVarDataRep (AccumulateData Object)\n",
            "    solution        1.135\n",
            "    indv_error_bound 0.001\n",
            "    ci_low          1.134\n",
            "    ci_high         1.137\n",
            "    ci_comb_low     1.134\n",
            "    ci_comb_high    1.137\n",
            "    solution_comb   1.135\n",
            "    flags_comb      0\n",
            "    flags_indv      0\n",
            "    n_total         2^(16)\n",
            "    n               2^(12)\n",
            "    replications    2^(4)\n",
            "    time_integrate  0.213\n",
            "CubQMCCLT (StoppingCriterion Object)\n",
            "    inflate         1.200\n",
            "    alpha           0.010\n",
            "    abs_tol         0.003\n",
            "    rel_tol         0\n",
            "    n_init          2^(8)\n",
            "    n_max           2^(30)\n",
            "Keister (Integrand Object)\n",
            "Gaussian (TrueMeasure Object)\n",
            "    mean            0\n",
            "    covariance      2^(-1)\n",
            "    decomp_type     PCA\n",
            "    transform       Gaussian (TrueMeasure Object)\n",
            "                       mean            0\n",
            "                       covariance      2^(-1)\n",
            "                       decomp_type     PCA\n",
            "Lattice (DiscreteDistribution Object)\n",
            "    d               5\n",
            "    dvec            [0 1 2 3 4]\n",
            "    randomize       1\n",
            "    order           natural\n",
            "    entropy         125825724872527476569644517462087311005\n",
            "    spawn_key       ()\n"
          ]
        }
      ]
    },
    {
      "cell_type": "markdown",
      "metadata": {
        "id": "HCadgtCYb_AJ"
      },
      "source": [
        "This answer agrees with the one above."
      ]
    },
    {
      "cell_type": "markdown",
      "metadata": {
        "id": "n1BT5mFBiwA0"
      },
      "source": [
        "### Alternatives for ``TrueMeasure``\n",
        "\n",
        "The Keister integrand may also be solved using a Lebesgue ``TrueMeasure`` object:\n",
        "$$\\mu = \\int_{\\mathbb{R}^d} \\underbrace{\\cos(\\lVert\\boldsymbol{t}\\rVert) \\exp( - \\lVert\\boldsymbol{t}\\rVert^2)}_{g(\\boldsymbol{t})} \\,  \\underbrace{\\mathrm{d} \\boldsymbol{t}}_{\\text{Lebesgue measure}}$$\n",
        "The ``TrueMeasure`` object contains the appropriate information so that the ``Integrand`` object can obtain the correct eventual integrand, $f$, in terms of the original integrand, $g$.  \n",
        "\n",
        "Since ``TrueMeasure`` is not a probability measure, so it cannot be mimicked, but it can be used to solve the integration problem.  The ``Integrand`` object maps the problem using an affine transformation for finite boxes and an inverse normal distribution function transformation for $\\mathbb{R}^d$.\n",
        "\n",
        "The code below also shows how to take our own integrand defined with a simple input and output, and turn it into a ``qmcpy`` ready integrand using the ``qmcpy.CustomFun`` object."
      ]
    },
    {
      "cell_type": "code",
      "metadata": {
        "id": "Y8FUgw9PVaMt",
        "colab": {
          "base_uri": "https://localhost:8080/"
        },
        "outputId": "5518418c-da80-41b8-c0be-7f7bc51cec3f"
      },
      "source": [
        "def my_Keister(x):  #this could be a functional of a solution to a PDE with random coefficients\n",
        "                    #or anything that you would like\n",
        "    \"\"\"  \n",
        "    x: nxd numpy ndarray\n",
        "       n samples\n",
        "       d dimensions\n",
        "\n",
        "    returns n-vector of the Kesiter function\n",
        "    evaluated at the n input samples\n",
        "    \"\"\"\n",
        "    d = x.shape[1]\n",
        "    norm = np.sqrt((x**2).sum(1))\n",
        "    k = np.cos(norm)*np.exp(-norm**2)\n",
        "    return k  #size n vector\n",
        "\n",
        "ld = qmcpy.Sobol(d)  #choose the LD points\n",
        "lebesgue = qmcpy.Lebesgue(qmcpy.Gaussian(ld))  #now choose the Lebesgue distribution\n",
        "f = qmcpy.CustomFun(lebesgue, g=my_Keister)\n",
        "keister_lebesgue_ld_g = qmcpy.CubQMCSobolG(f, abs_tol = tol)  #the stopping criterion does need to match the LD points\n",
        "solution, data = keister_lebesgue_ld_g.integrate()\n",
        "print(data)"
      ],
      "execution_count": null,
      "outputs": [
        {
          "output_type": "stream",
          "name": "stdout",
          "text": [
            "LDTransformData (AccumulateData Object)\n",
            "    solution        1.136\n",
            "    error_bound     0.001\n",
            "    n_total         2^(17)\n",
            "    time_integrate  0.220\n",
            "CubQMCSobolG (StoppingCriterion Object)\n",
            "    abs_tol         0.003\n",
            "    rel_tol         0\n",
            "    n_init          2^(10)\n",
            "    n_max           2^(35)\n",
            "CustomFun (Integrand Object)\n",
            "Lebesgue (TrueMeasure Object)\n",
            "    transform       Gaussian (TrueMeasure Object)\n",
            "                       mean            0\n",
            "                       covariance      1\n",
            "                       decomp_type     PCA\n",
            "Sobol (DiscreteDistribution Object)\n",
            "    d               5\n",
            "    dvec            [0 1 2 3 4]\n",
            "    randomize       LMS_DS\n",
            "    graycode        0\n",
            "    entropy         194868532784495369849157776875497551240\n",
            "    spawn_key       ()\n"
          ]
        }
      ]
    },
    {
      "cell_type": "markdown",
      "metadata": {
        "id": "_2SFs_6Ma-9q"
      },
      "source": [
        "This answer agrees with the answers above for the same integration problem.\n",
        "\n",
        "The initial ``DiscreteDistribution`` does not need to mimic the standard uniform distribution as this next example shows."
      ]
    },
    {
      "cell_type": "code",
      "metadata": {
        "id": "8a0KABTT3Lai",
        "colab": {
          "base_uri": "https://localhost:8080/"
        },
        "outputId": "85d5d973-00f1-4945-be11-83e84da6426a"
      },
      "source": [
        "iid = qmcpy.IIDStdUniform(d)  #choose the LD points\n",
        "lebesgue = qmcpy.Lebesgue(qmcpy.Gaussian(iid))  #now choose the Lebesgue distribution\n",
        "f = qmcpy.CustomFun(lebesgue, g=my_Keister)\n",
        "keister_lebesgue_ld_g = qmcpy.CubMCCLT(f, abs_tol = 10*tol)  #the stopping criterion does need to match the points\n",
        "solution, data = keister_lebesgue_ld_g.integrate()\n",
        "print(data)"
      ],
      "execution_count": null,
      "outputs": [
        {
          "output_type": "stream",
          "name": "stdout",
          "text": [
            "MeanVarData (AccumulateData Object)\n",
            "    solution        1.137\n",
            "    error_bound     0.025\n",
            "    n_total         2052660\n",
            "    n               2051636\n",
            "    levels          1\n",
            "    time_integrate  1.784\n",
            "CubMCCLT (StoppingCriterion Object)\n",
            "    abs_tol         0.025\n",
            "    rel_tol         0\n",
            "    n_init          2^(10)\n",
            "    n_max           10000000000\n",
            "    inflate         1.200\n",
            "    alpha           0.010\n",
            "CustomFun (Integrand Object)\n",
            "Lebesgue (TrueMeasure Object)\n",
            "    transform       Gaussian (TrueMeasure Object)\n",
            "                       mean            0\n",
            "                       covariance      1\n",
            "                       decomp_type     PCA\n",
            "IIDStdUniform (DiscreteDistribution Object)\n",
            "    d               5\n",
            "    entropy         125687903020889661475899769362602203284\n",
            "    spawn_key       ()\n"
          ]
        }
      ]
    },
    {
      "cell_type": "markdown",
      "metadata": {
        "id": "py0Q1ysPyhdn"
      },
      "source": [
        "### Multi-level (Q)MC\n",
        "\n",
        "When the dimesion of the multivariate integral is high, multi-level (Quasi-)Monte Carlo (ML(Q)MC) methods may save computation time.  The cost of one integrand value depends on the number of input variables, $d$, which corresponds to the dimension of our integration problem.  ML(Q)MC methods allow us attain our accuracy requirements by evaluating low dimensional integrands many times and high dimensional integrands much fewer times.\n",
        "\n",
        "High or infinte dimesional integration problems arise when computing the  expectations of quantities coming stochastic differential equations (SDEs).  These problems arise in finance applications. The dimension of the integrand typically refers to the number of time steps used to discretize the SDE.\n",
        "\n",
        "Here are some parameters for the Asian option examples below.  Changing them here allows you to compare the run times of these examples in a fair way."
      ]
    },
    {
      "cell_type": "code",
      "metadata": {
        "id": "V_IXXRnNuBAa"
      },
      "source": [
        "abs_tol = .05  #a nickel\n",
        "n_time_steps = 64  #being a power of 2 will help for multi-level\n",
        "\n",
        "options = {  #there should be nothing magic about these choices\n",
        "    'interest_rate': .05,\n",
        "    'volatility': .5,\n",
        "    'start_price': 30,\n",
        "    'strike_price': 30\n",
        "}\n",
        "\n",
        "giles_options = {  #Giles's option examples have a bit different parameters\n",
        "    'interest_rate': .05,\n",
        "    'volatility': .5,\n",
        "    'start_strike_price': 30,\n",
        "    'option': 'asian'\n",
        "}"
      ],
      "execution_count": null,
      "outputs": []
    },
    {
      "cell_type": "markdown",
      "metadata": {
        "id": "byuaaQO4rYpS"
      },
      "source": [
        "#### Single Level MC\n",
        "\n",
        "The vanilla way to solve this problem is IID Monte Carlo.  The fair price of the option is an expectation or integral, and the dimension is the number of time steps of used to discretize the Brownian motion that drives the SDE describing the price of the underlying asset.  The number of time steps should be fairly large.\n",
        "\n",
        "[CubMCG]: https://arxiv.org/abs/1208.4318 \"Fred J. Hickernell, Lan Jiang, Yuewei Liu, and Art B. Owen, 'Guaranteed conservative fixed width confidence intervals via Monte Carlo sampling,' Monte Carlo and Quasi-Monte Carlo Methods 2012 (J. Dick, F.Y. Kuo, G. W. Peters, and I. H. Sloan, eds.), pp. 105-128, Springer-Verlag, Berlin, 2014. DOI: 10.1007/978-3-642-41095-6_5\"\n",
        "\n",
        "[This paper by Lan Jiang and collaborators][CubMCG] describes the stopping criterion. "
      ]
    },
    {
      "cell_type": "code",
      "metadata": {
        "id": "DoxNSMfFl5C-",
        "colab": {
          "base_uri": "https://localhost:8080/"
        },
        "outputId": "c093118a-cc82-4bf3-81ed-2f85a69ff446"
      },
      "source": [
        "iidBrownian = qmcpy.BrownianMotion(qmcpy.IIDStdUniform(n_time_steps))\n",
        "payoff = qmcpy.AsianOption(iidBrownian, **options)\n",
        "IIDstop = qmcpy.CubMCG(payoff,abs_tol=abs_tol)\n",
        "price,data = IIDstop.integrate()\n",
        "print(data)"
      ],
      "execution_count": null,
      "outputs": [
        {
          "output_type": "stream",
          "name": "stdout",
          "text": [
            "MeanVarData (AccumulateData Object)\n",
            "    solution        3.693\n",
            "    error_bound     0.050\n",
            "    n_total         239316\n",
            "    n               238292\n",
            "    levels          1\n",
            "    time_integrate  2.815\n",
            "CubMCG (StoppingCriterion Object)\n",
            "    abs_tol         0.050\n",
            "    rel_tol         0\n",
            "    n_init          2^(10)\n",
            "    n_max           10000000000\n",
            "    inflate         1.200\n",
            "    alpha           0.010\n",
            "AsianOption (Integrand Object)\n",
            "    volatility      2^(-1)\n",
            "    call_put        call\n",
            "    start_price     30\n",
            "    strike_price    30\n",
            "    interest_rate   0.050\n",
            "    mean_type       arithmetic\n",
            "    dim_frac        0\n",
            "BrownianMotion (TrueMeasure Object)\n",
            "    time_vec        [0.016 0.031 0.047 ... 0.969 0.984 1.   ]\n",
            "    drift           0\n",
            "    mean            [0. 0. 0. ... 0. 0. 0.]\n",
            "    covariance      [[0.016 0.016 0.016 ... 0.016 0.016 0.016]\n",
            "                    [0.016 0.031 0.031 ... 0.031 0.031 0.031]\n",
            "                    [0.016 0.031 0.047 ... 0.047 0.047 0.047]\n",
            "                    ...\n",
            "                    [0.016 0.031 0.047 ... 0.969 0.969 0.969]\n",
            "                    [0.016 0.031 0.047 ... 0.969 0.984 0.984]\n",
            "                    [0.016 0.031 0.047 ... 0.969 0.984 1.   ]]\n",
            "    decomp_type     PCA\n",
            "    transform       BrownianMotion (TrueMeasure Object)\n",
            "                       time_vec        [0.016 0.031 0.047 ... 0.969 0.984 1.   ]\n",
            "                       drift           0\n",
            "                       mean            [0. 0. 0. ... 0. 0. 0.]\n",
            "                       covariance      [[0.016 0.016 0.016 ... 0.016 0.016 0.016]\n",
            "                                       [0.016 0.031 0.031 ... 0.031 0.031 0.031]\n",
            "                                       [0.016 0.031 0.047 ... 0.047 0.047 0.047]\n",
            "                                       ...\n",
            "                                       [0.016 0.031 0.047 ... 0.969 0.969 0.969]\n",
            "                                       [0.016 0.031 0.047 ... 0.969 0.984 0.984]\n",
            "                                       [0.016 0.031 0.047 ... 0.969 0.984 1.   ]]\n",
            "                       decomp_type     PCA\n",
            "IIDStdUniform (DiscreteDistribution Object)\n",
            "    d               2^(6)\n",
            "    entropy         306719586805224451461978490193736164863\n",
            "    spawn_key       ()\n"
          ]
        }
      ]
    },
    {
      "cell_type": "markdown",
      "metadata": {
        "id": "KQQPGpO5nveP"
      },
      "source": [
        "#### Fixed Multilevel IID MC with CLT\n",
        "\n",
        "Multilevel MC writes the high dimensional integral, $\\mu$, as a sum of a low dimensional integral, $\\mu_{d_1}$, plus a little higher dimensional integral, $\\mu_{d_2}$, and so on:  \n",
        "$$\n",
        "\\mu = \\mu_{d_1} + \\mu_{d_2} + \\cdots + \\mu_{d_L}, \\qquad d_1 < d_2 < \\cdots\n",
        "$$\n",
        "Done well, $\\mu_{d_1}$ takes many integrand values to approximate well, but each $d_1$-dimensional integrand value is cheap, while $\\mu_{d_L}$ requires few integrand values to approximate well, but each $d_L$-dimensional integrand value is expensive.\n",
        "\n",
        "Here is ML IID MC using a CLT stopping criterion.  The $d_1, \\ldots, d_L$ are all fixed."
      ]
    },
    {
      "cell_type": "code",
      "metadata": {
        "id": "DRqOM9WCm-n7",
        "colab": {
          "base_uri": "https://localhost:8080/"
        },
        "outputId": "9be54c07-df3e-4e37-8993-e74c0f6e8b64"
      },
      "source": [
        "iidBrownian = qmcpy.BrownianMotion(qmcpy.IIDStdUniform())\n",
        "payoff = qmcpy.AsianOption(iidBrownian, **options, multilevel_dims=[4,16,64])\n",
        "iid_ML_stop = qmcpy.CubMCCLT(payoff,abs_tol=abs_tol)\n",
        "price,data = iid_ML_stop.integrate()\n",
        "print(data)"
      ],
      "execution_count": null,
      "outputs": [
        {
          "output_type": "stream",
          "name": "stdout",
          "text": [
            "MeanVarData (AccumulateData Object)\n",
            "    solution        3.683\n",
            "    error_bound     0.050\n",
            "    n_total         232517\n",
            "    n               [207803.  18294.   3348.]\n",
            "    levels          3\n",
            "    time_integrate  0.456\n",
            "CubMCCLT (StoppingCriterion Object)\n",
            "    abs_tol         0.050\n",
            "    rel_tol         0\n",
            "    n_init          2^(10)\n",
            "    n_max           10000000000\n",
            "    inflate         1.200\n",
            "    alpha           0.010\n",
            "AsianOption (Integrand Object)\n",
            "    volatility      2^(-1)\n",
            "    call_put        call\n",
            "    start_price     30\n",
            "    strike_price    30\n",
            "    interest_rate   0.050\n",
            "    mean_type       arithmetic\n",
            "    multilevel_dims [ 4 16 64]\n",
            "BrownianMotion (TrueMeasure Object)\n",
            "    time_vec        1\n",
            "    drift           0\n",
            "    mean            0\n",
            "    covariance      1\n",
            "    decomp_type     PCA\n",
            "    transform       BrownianMotion (TrueMeasure Object)\n",
            "                       time_vec        1\n",
            "                       drift           0\n",
            "                       mean            0\n",
            "                       covariance      1\n",
            "                       decomp_type     PCA\n",
            "IIDStdUniform (DiscreteDistribution Object)\n",
            "    d               1\n",
            "    entropy         296969182636766446781723718518924973770\n",
            "    spawn_key       ()\n"
          ]
        }
      ]
    },
    {
      "cell_type": "markdown",
      "metadata": {
        "id": "HzGDIfvanzgk"
      },
      "source": [
        "#### Adaptive Multilevel MC from Mike Giles\n",
        "\n",
        "[CubMCML]: https://pubsonline.informs.org/doi/abs/10.1287/opre.1070.0496 \"Giles, M. Multilevel Monte Carlo Path Simulation. Operations  Research 56,607–617 (June 2008).\"\n",
        "\n",
        "[GilesSoftware]: http://people.maths.ox.ac.uk/~gilesm/mlmc/\n",
        "\n",
        "Mike Giles and his collaborators have developed several ML(Q)MC algorithms.   The ML IID MC algorithm and stopping criterion implemented here are from [this paper][CubMCML] and [this code][GilesSoftware]. The answer is expected to be different than above, even with the same parameters, as the `MLCallOptions` uses a different discretization. The algorithm considers the SDE for logarithm of the stock price, which allows exact time stepping for constant interest rates and volatirilities, while Giles uses a Milstein discretization for the SDE for the stock price iteself."
      ]
    },
    {
      "cell_type": "code",
      "metadata": {
        "id": "d2ZmrKjyoYY0",
        "colab": {
          "base_uri": "https://localhost:8080/"
        },
        "outputId": "b662e8fb-5ef3-4960-8ffd-0b9cf41bc94e"
      },
      "source": [
        "iidBrownian = qmcpy.Gaussian(qmcpy.IIDStdUniform())\n",
        "payoff = qmcpy.MLCallOptions(iidBrownian, **giles_options)\n",
        "giles_MLMC_stop = qmcpy.CubMCML(payoff,abs_tol=abs_tol)\n",
        "solution,data = giles_MLMC_stop.integrate()\n",
        "print(data)"
      ],
      "execution_count": null,
      "outputs": [
        {
          "output_type": "stream",
          "name": "stdout",
          "text": [
            "MLMCData (AccumulateData Object)\n",
            "    solution        3.674\n",
            "    n_total         730718\n",
            "    levels          3\n",
            "    n_level         [315095.  33765.  16883.]\n",
            "    mean_level      [3.670e+00 3.915e-03 9.788e-04]\n",
            "    var_level       [37.515  0.83   0.208]\n",
            "    cost_per_sample [1. 2. 4.]\n",
            "    alpha           2.000\n",
            "    beta            2.000\n",
            "    gamma           1.000\n",
            "    time_integrate  0.377\n",
            "CubMCML (StoppingCriterion Object)\n",
            "    rmse_tol        0.019\n",
            "    n_init          2^(8)\n",
            "    levels_min      2^(1)\n",
            "    levels_max      10\n",
            "    theta           2^(-1)\n",
            "MLCallOptions (Integrand Object)\n",
            "    option          asian\n",
            "    sigma           2^(-1)\n",
            "    k               30\n",
            "    r               0.050\n",
            "    t               1\n",
            "    b               25.500\n",
            "    level           0\n",
            "Gaussian (TrueMeasure Object)\n",
            "    mean            0\n",
            "    covariance      1\n",
            "    decomp_type     PCA\n",
            "    transform       Gaussian (TrueMeasure Object)\n",
            "                       mean            0\n",
            "                       covariance      1\n",
            "                       decomp_type     PCA\n",
            "IIDStdUniform (DiscreteDistribution Object)\n",
            "    d               1\n",
            "    entropy         54203569068273610022597227920070457269\n",
            "    spawn_key       ()\n"
          ]
        }
      ]
    },
    {
      "cell_type": "markdown",
      "metadata": {
        "id": "HTkrRMi9rk_b"
      },
      "source": [
        "#### Single Level QMC Baseline\n",
        "\n",
        "[CubQMCSobolG]: https://arxiv.org/abs/1410.8615 \"Fred J. Hickernell and Lluis Antoni Jimenez Rugama, 'Reliable adaptive cubature using digital sequences,' Monte Carlo and Quasi-Monte Carlo Methods: MCQMC, Leuven, Belgium, April 2014 (R. Cools and D. Nuyens, eds.), Springer Proceedings in Mathematics and Statistics, vol. 163, Springer-Verlag, Berlin, 2016, arXiv:1410.8615 [math.NA], pp. 367-383.\"\n",
        "\n",
        "Tony Jiménez's stopping criterion for cubature via Sobol' sequences in  [this paper][CubQMCSobolG] does not yet work for multi-level problems.  Here it is treating the option pricing problem as a high dimensional integral."
      ]
    },
    {
      "cell_type": "code",
      "metadata": {
        "id": "XtUqkZ1Qr2tH",
        "colab": {
          "base_uri": "https://localhost:8080/"
        },
        "outputId": "07d0855f-1747-407b-a04c-b6d9cc18c1e1"
      },
      "source": [
        "sobol_brownian = qmcpy.BrownianMotion(qmcpy.Sobol(n_time_steps))\n",
        "integrand = qmcpy.AsianOption(sobol_brownian, **options)\n",
        "stopping_criterion = qmcpy.CubQMCSobolG(integrand,abs_tol = abs_tol)\n",
        "solution,data = stopping_criterion.integrate()\n",
        "print(data)"
      ],
      "execution_count": null,
      "outputs": [
        {
          "output_type": "stream",
          "name": "stdout",
          "text": [
            "LDTransformData (AccumulateData Object)\n",
            "    solution        3.691\n",
            "    error_bound     0.024\n",
            "    n_total         2^(10)\n",
            "    time_integrate  0.041\n",
            "CubQMCSobolG (StoppingCriterion Object)\n",
            "    abs_tol         0.050\n",
            "    rel_tol         0\n",
            "    n_init          2^(10)\n",
            "    n_max           2^(35)\n",
            "AsianOption (Integrand Object)\n",
            "    volatility      2^(-1)\n",
            "    call_put        call\n",
            "    start_price     30\n",
            "    strike_price    30\n",
            "    interest_rate   0.050\n",
            "    mean_type       arithmetic\n",
            "    dim_frac        0\n",
            "BrownianMotion (TrueMeasure Object)\n",
            "    time_vec        [0.016 0.031 0.047 ... 0.969 0.984 1.   ]\n",
            "    drift           0\n",
            "    mean            [0. 0. 0. ... 0. 0. 0.]\n",
            "    covariance      [[0.016 0.016 0.016 ... 0.016 0.016 0.016]\n",
            "                    [0.016 0.031 0.031 ... 0.031 0.031 0.031]\n",
            "                    [0.016 0.031 0.047 ... 0.047 0.047 0.047]\n",
            "                    ...\n",
            "                    [0.016 0.031 0.047 ... 0.969 0.969 0.969]\n",
            "                    [0.016 0.031 0.047 ... 0.969 0.984 0.984]\n",
            "                    [0.016 0.031 0.047 ... 0.969 0.984 1.   ]]\n",
            "    decomp_type     PCA\n",
            "    transform       BrownianMotion (TrueMeasure Object)\n",
            "                       time_vec        [0.016 0.031 0.047 ... 0.969 0.984 1.   ]\n",
            "                       drift           0\n",
            "                       mean            [0. 0. 0. ... 0. 0. 0.]\n",
            "                       covariance      [[0.016 0.016 0.016 ... 0.016 0.016 0.016]\n",
            "                                       [0.016 0.031 0.031 ... 0.031 0.031 0.031]\n",
            "                                       [0.016 0.031 0.047 ... 0.047 0.047 0.047]\n",
            "                                       ...\n",
            "                                       [0.016 0.031 0.047 ... 0.969 0.969 0.969]\n",
            "                                       [0.016 0.031 0.047 ... 0.969 0.984 0.984]\n",
            "                                       [0.016 0.031 0.047 ... 0.969 0.984 1.   ]]\n",
            "                       decomp_type     PCA\n",
            "Sobol (DiscreteDistribution Object)\n",
            "    d               2^(6)\n",
            "    dvec            [ 0  1  2 ... 61 62 63]\n",
            "    randomize       LMS_DS\n",
            "    graycode        0\n",
            "    entropy         298564069847482032626556688592897313095\n",
            "    spawn_key       ()\n"
          ]
        }
      ]
    },
    {
      "cell_type": "markdown",
      "metadata": {
        "id": "ViBnbZ2GQDGK"
      },
      "source": [
        "### Importance Sampling\n",
        "\n",
        "For the option pricing problem, we may add a drift to the Brownian motion as an example of importance sampling.\n",
        "\n",
        "First, we need to change our problem to one for which importance sampling can show some benefit.  We consider an out-of-the-money call option."
      ]
    },
    {
      "cell_type": "code",
      "metadata": {
        "id": "Le1wHMsTQana"
      },
      "source": [
        "abs_tol = .001\n",
        "n_time_steps = 64\n",
        "\n",
        "options = {\n",
        "    'interest_rate': .05,\n",
        "    'volatility': .5,\n",
        "    'start_price': 30,\n",
        "    'strike_price': 40  #a larger strike price than before\n",
        "}"
      ],
      "execution_count": null,
      "outputs": []
    },
    {
      "cell_type": "markdown",
      "metadata": {
        "id": "LIqdo4uuQsRd"
      },
      "source": [
        "First we price it as above using single level QMC."
      ]
    },
    {
      "cell_type": "code",
      "metadata": {
        "id": "NeXo-ZgUQ0IN",
        "colab": {
          "base_uri": "https://localhost:8080/"
        },
        "outputId": "8cabc874-c146-49f0-ea71-2413ee05367d"
      },
      "source": [
        "sobol_brownian = qmcpy.BrownianMotion(qmcpy.Sobol(n_time_steps))\n",
        "integrand = qmcpy.AsianOption(sobol_brownian, **options)\n",
        "stopping_criterion = qmcpy.CubQMCSobolG(integrand,abs_tol = abs_tol)\n",
        "solution,data = stopping_criterion.integrate()\n",
        "print(data)"
      ],
      "execution_count": null,
      "outputs": [
        {
          "output_type": "stream",
          "name": "stdout",
          "text": [
            "LDTransformData (AccumulateData Object)\n",
            "    solution        1.019\n",
            "    error_bound     5.48e-04\n",
            "    n_total         2^(16)\n",
            "    time_integrate  1.080\n",
            "CubQMCSobolG (StoppingCriterion Object)\n",
            "    abs_tol         0.001\n",
            "    rel_tol         0\n",
            "    n_init          2^(10)\n",
            "    n_max           2^(35)\n",
            "AsianOption (Integrand Object)\n",
            "    volatility      2^(-1)\n",
            "    call_put        call\n",
            "    start_price     30\n",
            "    strike_price    40\n",
            "    interest_rate   0.050\n",
            "    mean_type       arithmetic\n",
            "    dim_frac        0\n",
            "BrownianMotion (TrueMeasure Object)\n",
            "    time_vec        [0.016 0.031 0.047 ... 0.969 0.984 1.   ]\n",
            "    drift           0\n",
            "    mean            [0. 0. 0. ... 0. 0. 0.]\n",
            "    covariance      [[0.016 0.016 0.016 ... 0.016 0.016 0.016]\n",
            "                    [0.016 0.031 0.031 ... 0.031 0.031 0.031]\n",
            "                    [0.016 0.031 0.047 ... 0.047 0.047 0.047]\n",
            "                    ...\n",
            "                    [0.016 0.031 0.047 ... 0.969 0.969 0.969]\n",
            "                    [0.016 0.031 0.047 ... 0.969 0.984 0.984]\n",
            "                    [0.016 0.031 0.047 ... 0.969 0.984 1.   ]]\n",
            "    decomp_type     PCA\n",
            "    transform       BrownianMotion (TrueMeasure Object)\n",
            "                       time_vec        [0.016 0.031 0.047 ... 0.969 0.984 1.   ]\n",
            "                       drift           0\n",
            "                       mean            [0. 0. 0. ... 0. 0. 0.]\n",
            "                       covariance      [[0.016 0.016 0.016 ... 0.016 0.016 0.016]\n",
            "                                       [0.016 0.031 0.031 ... 0.031 0.031 0.031]\n",
            "                                       [0.016 0.031 0.047 ... 0.047 0.047 0.047]\n",
            "                                       ...\n",
            "                                       [0.016 0.031 0.047 ... 0.969 0.969 0.969]\n",
            "                                       [0.016 0.031 0.047 ... 0.969 0.984 0.984]\n",
            "                                       [0.016 0.031 0.047 ... 0.969 0.984 1.   ]]\n",
            "                       decomp_type     PCA\n",
            "Sobol (DiscreteDistribution Object)\n",
            "    d               2^(6)\n",
            "    dvec            [ 0  1  2 ... 61 62 63]\n",
            "    randomize       LMS_DS\n",
            "    graycode        0\n",
            "    entropy         278946552274189976619666924604518932525\n",
            "    spawn_key       ()\n"
          ]
        }
      ]
    },
    {
      "cell_type": "markdown",
      "metadata": {
        "id": "1pgJzDBVRIzH"
      },
      "source": [
        "Next, we introduce an upward drift in the Brownian motion, which produces more stock price paths with positive payoffs.  This produces a smaller varation in the integrand and a generally faster run time.  (There still remains the question of how to automatically choose an optimal drift.)"
      ]
    },
    {
      "cell_type": "code",
      "metadata": {
        "id": "MAXEi_UkRstV",
        "colab": {
          "base_uri": "https://localhost:8080/"
        },
        "outputId": "f2732860-468e-4861-c693-106a97d6f719"
      },
      "source": [
        "sobol_drift_brownian = qmcpy.BrownianMotion(qmcpy.Sobol(n_time_steps), drift = 0.5)\n",
        "integrand = qmcpy.AsianOption(sobol_drift_brownian, **options)\n",
        "stopping_criterion = qmcpy.CubQMCSobolG(integrand,abs_tol = abs_tol)\n",
        "solution,data = stopping_criterion.integrate()\n",
        "print(data)"
      ],
      "execution_count": null,
      "outputs": [
        {
          "output_type": "stream",
          "name": "stdout",
          "text": [
            "LDTransformData (AccumulateData Object)\n",
            "    solution        1.018\n",
            "    error_bound     9.33e-04\n",
            "    n_total         2^(14)\n",
            "    time_integrate  0.323\n",
            "CubQMCSobolG (StoppingCriterion Object)\n",
            "    abs_tol         0.001\n",
            "    rel_tol         0\n",
            "    n_init          2^(10)\n",
            "    n_max           2^(35)\n",
            "AsianOption (Integrand Object)\n",
            "    volatility      2^(-1)\n",
            "    call_put        call\n",
            "    start_price     30\n",
            "    strike_price    40\n",
            "    interest_rate   0.050\n",
            "    mean_type       arithmetic\n",
            "    dim_frac        0\n",
            "BrownianMotion (TrueMeasure Object)\n",
            "    time_vec        [0.016 0.031 0.047 ... 0.969 0.984 1.   ]\n",
            "    drift           0\n",
            "    mean            [0. 0. 0. ... 0. 0. 0.]\n",
            "    covariance      [[0.016 0.016 0.016 ... 0.016 0.016 0.016]\n",
            "                    [0.016 0.031 0.031 ... 0.031 0.031 0.031]\n",
            "                    [0.016 0.031 0.047 ... 0.047 0.047 0.047]\n",
            "                    ...\n",
            "                    [0.016 0.031 0.047 ... 0.969 0.969 0.969]\n",
            "                    [0.016 0.031 0.047 ... 0.969 0.984 0.984]\n",
            "                    [0.016 0.031 0.047 ... 0.969 0.984 1.   ]]\n",
            "    decomp_type     PCA\n",
            "    transform       BrownianMotion (TrueMeasure Object)\n",
            "                       time_vec        [0.016 0.031 0.047 ... 0.969 0.984 1.   ]\n",
            "                       drift           2^(-1)\n",
            "                       mean            [0.008 0.016 0.023 ... 0.484 0.492 0.5  ]\n",
            "                       covariance      [[0.016 0.016 0.016 ... 0.016 0.016 0.016]\n",
            "                                       [0.016 0.031 0.031 ... 0.031 0.031 0.031]\n",
            "                                       [0.016 0.031 0.047 ... 0.047 0.047 0.047]\n",
            "                                       ...\n",
            "                                       [0.016 0.031 0.047 ... 0.969 0.969 0.969]\n",
            "                                       [0.016 0.031 0.047 ... 0.969 0.984 0.984]\n",
            "                                       [0.016 0.031 0.047 ... 0.969 0.984 1.   ]]\n",
            "                       decomp_type     PCA\n",
            "Sobol (DiscreteDistribution Object)\n",
            "    d               2^(6)\n",
            "    dvec            [ 0  1  2 ... 61 62 63]\n",
            "    randomize       LMS_DS\n",
            "    graycode        0\n",
            "    entropy         94067408886333747652043836211897720092\n",
            "    spawn_key       ()\n"
          ]
        }
      ]
    },
    {
      "cell_type": "markdown",
      "metadata": {
        "id": "Qx-HQwxacQAA"
      },
      "source": [
        "**_Pause for questions_**"
      ]
    },
    {
      "cell_type": "markdown",
      "metadata": {
        "id": "76dT8RIbKvr3"
      },
      "source": [
        "## Under the hood\n",
        "\n",
        "The structure of ``qmcpy`` is that there are five major classes:\n",
        "\n",
        "* ``DiscreteDistribution`` used to generate LD sequences, primarily on $[0,1]^d$\n",
        "* ``TrueMeasure`` for using these LD sequences to mimic other distributions and to define integrals with respect to other measures\n",
        "* ``Integrand`` to define the integrand for the multivariate integration problems\n",
        "* ``StoppingCriterion`` to determine when the desired accuracy has been reached\n",
        "* ``AccumulateData`` the invisible class used to keep track of important data as you continue to sample\n",
        "\n",
        "We look at some of the important parameters that the corresponding objects have."
      ]
    },
    {
      "cell_type": "markdown",
      "metadata": {
        "id": "UlHMBejwK4_v"
      },
      "source": [
        "[GAIL]: http://gailgithub.github.io/GAIL_Dev/ \"Sou-Cheng T. Choi, Yuhan Ding, Fred J. Hickernell, Lan Jiang, Lluis Antoni Jimenez Rugama, Da Li, Jagadeeswaran Rathinavel, Xin Tong, Kan Zhang, Yizhi Zhang, and Xuan Zhou, GAIL: Guaranteed Automatic Integration Library (Version 2.3.1) [MATLAB Software], 2020. Available from `http://gailgithub.github.io/GAIL_Dev/`\"\n",
        "\n",
        "[QRNG]: https://CRAN.R-project.org/package=qrng \"Marius Hofert and Christiane Lemieux (2019). qrng: (Randomized) Quasi-Random Number Generators. R package version 0.0-7. `https://CRAN.R-project.org/package=qrng`.\"\n",
        "\n",
        "[OwenHalton]: https://arxiv.org/abs/1706.02808 \"Owen, A. B. 'A randomized Halton algorithm in R,' 2017. arXiv:1706.02808 [stat.CO]\"\n",
        "\n",
        "[MPS]: https://people.cs.kuleuven.be/~dirk.nuyens/qmc-generators/ \"F. Y. Kuo and D. Nuyens. 'Application of quasi-Monte Carlo methods to elliptic PDEs with random diffusion coefficients - a survey of analysis and implementation,' Foundations of Computational Mathematics, 16(6):1631-1696, 2016. ([springer link](https://link.springer.com/article/10.1007/s10208-016-9329-5), [arxiv link](https://arxiv.org/abs/1606.06613))\"\n",
        "\n",
        "[GilesSoftware]: http://people.maths.ox.ac.uk/~gilesm/mlmc/\n",
        "\n",
        "[PyTorch]: https://pytorch.org\n",
        "\n",
        "[LatticeBuilder]: http://simul.iro.umontreal.ca/latbuilder/\n",
        "\n",
        "### LD sequence generators\n",
        "\n",
        "The LD generators (``DiscreteDistribution`` objects) implemented here are drawn from several sources, which are denoted ``backend`` (first listed is the default):\n",
        "- Sobol: [QRNG], [MPS], & [PyTorch]\n",
        "- Lattice: [GAIL] & [MPS], with default generating vectors from [Lattice Builder][LatticeBuilder]\n",
        "- Halton: [Art Owen's][OwenHalton] & [QRNG]\n",
        "- Korobov: [QRNG]\n",
        "\n",
        "We illustrate some of the features of these varous backends and some of the other parameters that you can set."
      ]
    },
    {
      "cell_type": "markdown",
      "metadata": {
        "id": "M60jJ1nGqzy6"
      },
      "source": [
        "#### Different lattice backends and generators\n",
        "\n",
        "The ``qmcpy.Lattice`` generator using the GAIL and MPS ``backends`` with the same generating vectors yield the same points but in a different order.  The ``stopping criterion`` ``qmcpy.CubLatticeG`` requires the GAIL order, but not all stopping criteria do."
      ]
    },
    {
      "cell_type": "code",
      "metadata": {
        "id": "4WN-EBMh6Jqh",
        "colab": {
          "base_uri": "https://localhost:8080/",
          "height": 690
        },
        "outputId": "03a61a6c-a3ea-4079-ae2d-edf0f0177a5c"
      },
      "source": [
        "d=4; n=8\n",
        "x_gail = qmcpy.Lattice(d,order='linear',randomize=False).gen_samples(n,warn=False)\n",
        "print('GAIL Samples')\n",
        "for i in range(n): print(x_gail[i])\n",
        "x_mps = qmcpy.Lattice(d,order='natural',randomize=False).gen_samples(n,warn=False)\n",
        "print('\\n\\nMPS Samples')\n",
        "for i in range(n): print(x_mps[i])\n",
        "fig,ax = pyplot.subplots(nrows=1,ncols=2,figsize=(10,5.5))\n",
        "ax[0].scatter(x_gail[0:n,0],x_gail[0:n,1],color='b')\n",
        "ax[0].set_title('GAIL backend')\n",
        "ax[1].scatter(x_mps[0:n,0],x_mps[0:n,1],color='b')\n",
        "ax[1].set_title('MPS backend')\n",
        "for ii in range(2):\n",
        "  ax[ii].set_xlim([0,1]); ax[ii].set_xticks([0,1]); ax[ii].set_xlabel('$x_{i,1}$')\n",
        "  ax[ii].set_ylim([0,1]); ax[ii].set_yticks([0,1]); ax[ii].set_ylabel('$x_{i,2}$')\n",
        "  ax[ii].set_aspect(1)"
      ],
      "execution_count": null,
      "outputs": [
        {
          "output_type": "stream",
          "name": "stdout",
          "text": [
            "GAIL Samples\n",
            "[0. 0. 0. 0.]\n",
            "[0.125 0.375 0.375 0.125]\n",
            "[0.25 0.75 0.75 0.25]\n",
            "[0.375 0.125 0.125 0.375]\n",
            "[0.5 0.5 0.5 0.5]\n",
            "[0.625 0.875 0.875 0.625]\n",
            "[0.75 0.25 0.25 0.75]\n",
            "[0.875 0.625 0.625 0.875]\n",
            "\n",
            "\n",
            "MPS Samples\n",
            "[0. 0. 0. 0.]\n",
            "[0.5 0.5 0.5 0.5]\n",
            "[0.25 0.75 0.75 0.25]\n",
            "[0.75 0.25 0.25 0.75]\n",
            "[0.125 0.375 0.375 0.125]\n",
            "[0.625 0.875 0.875 0.625]\n",
            "[0.375 0.125 0.125 0.375]\n",
            "[0.875 0.625 0.625 0.875]\n"
          ]
        },
        {
          "output_type": "display_data",
          "data": {
            "image/png": "[encoded data removed]",
            "text/plain": [
              "<Figure size 720x396 with 2 Axes>"
            ]
          },
          "metadata": {
            "needs_background": "light"
          }
        }
      ]
    },
    {
      "cell_type": "markdown",
      "metadata": {
        "id": "vhY1WrmaL-HS"
      },
      "source": [
        "#### Default LDs are randomized\n",
        "\n",
        "LDs can be purely deterministic or they can be randomized.  For lattices this corresponds to a random shift modulo one.  For Sobol' sequences this corresponds to a random digital shift.  (PyTorch also uses random linear scrambling.)\n",
        "\n",
        "This randomization is turned on by default, but can also be turned off. With randomization off, the points will always look the same. Below the first sequence of points is randomized and so is different every time the code is run.  The second sequence is not randomized and stay the same.\n",
        "\n",
        "Turning off randomization throws a warning, which stops execution in Colab so we disable the warnings."
      ]
    },
    {
      "cell_type": "code",
      "metadata": {
        "id": "T5M5DMXTgewR",
        "colab": {
          "base_uri": "https://localhost:8080/"
        },
        "outputId": "c7132888-4c6f-4667-b95f-cd4b0b883c00"
      },
      "source": [
        "warnings.simplefilter('ignore')  #turn off warnings which stop execution in Colab\n",
        "n = 16\n",
        "ldA = qmcpy.Lattice(2)\n",
        "ldB = qmcpy.Lattice(2, randomize = False)\n",
        "pointsA = ldA.gen_samples(n)  #construct some points\n",
        "pointsB = ldB.gen_samples(n)  #construct some points\n",
        "print(f'\\nRandomized LD Points with shape {pointsA.shape}\\n'+str(pointsA))  #these points have 15 significant digit precision but only three digits are shown\n",
        "print(f'\\nNonrandomized LD Points with shape {pointsB.shape}\\n'+str(pointsB))  #these points have 15 significant digit precision but only three digits are shown\n",
        "fig,ax = pyplot.subplots(nrows=1,ncols=2,figsize=(10,5.5))\n",
        "ax[0].scatter(pointsA[0:n,0],pointsA[0:n,1],color='b')\n",
        "ax[1].scatter(pointsB[0:n,0],pointsB[0:n,1],color='b')\n",
        "for ii in range(2):\n",
        "   ax[ii].set_xlim([0,1]); ax[ii].set_xticks([0,1]); ax[ii].set_xlabel('$x_{i,1}$')\n",
        "   ax[ii].set_ylim([0,1]); ax[ii].set_yticks([0,1]); ax[ii].set_ylabel('$x_{i,2}$')\n",
        "   ax[ii].set_aspect(1)"
      ],
      "execution_count": null,
      "outputs": [
        {
          "output_type": "stream",
          "name": "stdout",
          "text": [
            "\n",
            "Randomized LD Points with shape (16, 2)\n",
            "[[0.74333235 0.225694  ]\n",
            " [0.24333235 0.725694  ]\n",
            " [0.99333235 0.975694  ]\n",
            " [0.49333235 0.475694  ]\n",
            " [0.86833235 0.600694  ]\n",
            " [0.36833235 0.100694  ]\n",
            " [0.11833235 0.350694  ]\n",
            " [0.61833235 0.850694  ]\n",
            " [0.80583235 0.913194  ]\n",
            " [0.30583235 0.413194  ]\n",
            " [0.05583235 0.663194  ]\n",
            " [0.55583235 0.163194  ]\n",
            " [0.93083235 0.288194  ]\n",
            " [0.43083235 0.788194  ]\n",
            " [0.18083235 0.038194  ]\n",
            " [0.68083235 0.538194  ]]\n",
            "\n",
            "Nonrandomized LD Points with shape (16, 2)\n",
            "[[0.     0.    ]\n",
            " [0.5    0.5   ]\n",
            " [0.25   0.75  ]\n",
            " [0.75   0.25  ]\n",
            " [0.125  0.375 ]\n",
            " [0.625  0.875 ]\n",
            " [0.375  0.125 ]\n",
            " [0.875  0.625 ]\n",
            " [0.0625 0.6875]\n",
            " [0.5625 0.1875]\n",
            " [0.3125 0.4375]\n",
            " [0.8125 0.9375]\n",
            " [0.1875 0.0625]\n",
            " [0.6875 0.5625]\n",
            " [0.4375 0.8125]\n",
            " [0.9375 0.3125]]\n"
          ]
        },
        {
          "output_type": "display_data",
          "data": {
            "image/png": "[encoded data removed]",
            "text/plain": [
              "<Figure size 720x396 with 2 Axes>"
            ]
          },
          "metadata": {
            "needs_background": "light"
          }
        }
      ]
    },
    {
      "cell_type": "markdown",
      "metadata": {
        "id": "cfp-PHhOMOJ_"
      },
      "source": [
        "#### Unrandomized LDs start with $\\boldsymbol{0}$\n",
        "\n",
        "By definition, without randomization the first point in all the popluar LD sequences is the origin.  You can try."
      ]
    },
    {
      "cell_type": "code",
      "metadata": {
        "id": "3QEtEYJuiJOB",
        "colab": {
          "base_uri": "https://localhost:8080/"
        },
        "outputId": "63714e97-1d0d-427e-e39c-9666d7044025"
      },
      "source": [
        "warnings.simplefilter('ignore')  #turn off warnings which stop execution in Colab\n",
        "ld = qmcpy.Lattice(6,randomize=False)\n",
        "points = ld.gen_samples(4)  #construct some points\n",
        "print(f'\\nLD Points with shape {points.shape}\\n'+str(points))  #these points have 15 significant digit precision but only three digits are shown"
      ],
      "execution_count": null,
      "outputs": [
        {
          "output_type": "stream",
          "name": "stdout",
          "text": [
            "\n",
            "LD Points with shape (4, 6)\n",
            "[[0.   0.   0.   0.   0.   0.  ]\n",
            " [0.5  0.5  0.5  0.5  0.5  0.5 ]\n",
            " [0.25 0.75 0.75 0.25 0.25 0.75]\n",
            " [0.75 0.25 0.25 0.75 0.75 0.25]]\n"
          ]
        }
      ]
    },
    {
      "cell_type": "markdown",
      "metadata": {
        "id": "95B7fJ5kMX1H"
      },
      "source": [
        "#### Coordinate values of zero and one may be problemetic if transformed to $\\mathbb{R}^d$\n",
        "\n",
        "If a coordinate value of a point constructed on $[0,1]^d$ is zero or one, then then $0$ is mapped to $-\\infty$ and $1$ is mapped to $\\infty$ when these points are transformed to $\\mathbb{R}^d$, as is done when solving problems with Gaussian distributions. In Python, these may turn out to be ``nan``.  For many applications, infinities or ``nan`` will be troublesome."
      ]
    },
    {
      "cell_type": "code",
      "metadata": {
        "id": "t13Hkd1kkzjE",
        "colab": {
          "base_uri": "https://localhost:8080/"
        },
        "outputId": "b9785a1f-87cb-4498-f09b-b0efcce81318"
      },
      "source": [
        "warnings.simplefilter('ignore')  #turn off warnings which stop execution in Colab\n",
        "ld = qmcpy.Lattice(6,randomize=False)\n",
        "unif_points = ld.gen_samples(2)  #construct some points\n",
        "print(f'\\nLD Points with shape {unif_points.shape}\\n'+str(unif_points))\n",
        "ld_gauss = qmcpy.Gaussian(ld)\n",
        "gauss_points = ld_gauss.gen_samples(2)\n",
        "print(f'\\nLD Points with shape {gauss_points.shape}\\n'+str(gauss_points))"
      ],
      "execution_count": null,
      "outputs": [
        {
          "output_type": "stream",
          "name": "stdout",
          "text": [
            "\n",
            "LD Points with shape (2, 6)\n",
            "[[0.  0.  0.  0.  0.  0. ]\n",
            " [0.5 0.5 0.5 0.5 0.5 0.5]]\n",
            "\n",
            "LD Points with shape (2, 6)\n",
            "[[nan nan nan nan nan nan]\n",
            " [ 0.  0.  0.  0.  0.  0.]]\n"
          ]
        }
      ]
    },
    {
      "cell_type": "markdown",
      "metadata": {
        "id": "RKLIJy_U9v-2"
      },
      "source": [
        "#### Replications with a fixed seed\n",
        "\n",
        "For debugging purposes, you may wish to fix the seed of your randomized points.  This gives the advantage of an unchanging answer while avoiding the boundaries of the unit cube.  When rerunning the code below, the answers are unchanged iff the seed is fixed. For Tony's stopping criterion from GAIL, the points are randomized, but the algorithm is deterministic. For the fixed-multilevel CLT stopping criterion, the points and the algorithm are both random."
      ]
    },
    {
      "cell_type": "code",
      "metadata": {
        "id": "tSr40DWa4sYW",
        "colab": {
          "base_uri": "https://localhost:8080/"
        },
        "outputId": "127db88b-e93f-40ac-ec0e-383177055109"
      },
      "source": [
        "solution_G_fixed = qmcpy.CubQMCSobolG(qmcpy.Keister(qmcpy.Gaussian(qmcpy.Sobol(2,seed=47),covariance=1/2))).integrate()[0]\n",
        "solution_CLT_fixed = qmcpy.CubQMCCLT(qmcpy.Keister(qmcpy.Gaussian(qmcpy.Sobol(2,seed=47),covariance=1/2))).integrate()[0]\n",
        "solution_G = qmcpy.CubQMCSobolG(qmcpy.Keister(qmcpy.Gaussian(qmcpy.Sobol(2),covariance=1/2))).integrate()[0]\n",
        "solution_CLT = qmcpy.CubQMCCLT(qmcpy.Keister(qmcpy.Gaussian(qmcpy.Sobol(2),covariance=1/2))).integrate()[0]\n",
        "print(f'Solution for GAIL stopping criterion with FIXED seed {solution_G_fixed}')\n",
        "print(f'Solution for CLT stopping criterion with FIXED seed {solution_CLT_fixed}')\n",
        "print(f'Solution for GAIL stopping criterion {solution_G}')\n",
        "print(f'Solution for CLT stopping criterion {solution_CLT}')"
      ],
      "execution_count": null,
      "outputs": [
        {
          "output_type": "stream",
          "name": "stdout",
          "text": [
            "Solution for GAIL stopping criterion with FIXED seed 1.807290087173131\n",
            "Solution for CLT stopping criterion with FIXED seed [1.80842559]\n",
            "Solution for GAIL stopping criterion 1.8091142128774358\n",
            "Solution for CLT stopping criterion [1.80831554]\n"
          ]
        }
      ]
    },
    {
      "cell_type": "markdown",
      "metadata": {
        "id": "5GNVeK8n_v2b"
      },
      "source": [
        "#### Help\n",
        "\n",
        "You can obtain help on any object by the ``help(...)`` or ``dir(...)`` commands."
      ]
    },
    {
      "cell_type": "code",
      "metadata": {
        "id": "MT_coxDLnfr4",
        "colab": {
          "base_uri": "https://localhost:8080/"
        },
        "outputId": "8d3d8f0f-bd40-440e-b991-6d129f732da0"
      },
      "source": [
        "help(qmcpy.Sobol)\n",
        "dir(qmcpy.Sobol)"
      ],
      "execution_count": null,
      "outputs": [
        {
          "output_type": "stream",
          "name": "stdout",
          "text": [
            "Help on class Sobol in module qmcpy.discrete_distribution.digital_net_b2.digital_net_b2:\n",
            "\n",
            "class Sobol(DigitalNetB2)\n",
            " |  Sobol(dimension=1, randomize='LMS_DS', graycode=False, seed=None, generating_matrices='sobol_mat.21201.32.32.msb.npy', d_max=None, t_max=None, m_max=None, msb=None, t_lms=None, _verbose=False)\n",
            " |  \n",
            " |  Quasi-Random digital nets in base 2.\n",
            " |  \n",
            " |  >>> dnb2 = DigitalNetB2(2,seed=7)\n",
            " |  >>> dnb2.gen_samples(4)\n",
            " |  array([[0.56269008, 0.17377997],\n",
            " |         [0.346653  , 0.65070632],\n",
            " |         [0.82074548, 0.95490574],\n",
            " |         [0.10422261, 0.49458097]])\n",
            " |  >>> dnb2.gen_samples(1)\n",
            " |  array([[0.56269008, 0.17377997]])\n",
            " |  >>> dnb2\n",
            " |  DigitalNetB2 (DiscreteDistribution Object)\n",
            " |      d               2^(1)\n",
            " |      dvec            [0 1]\n",
            " |      randomize       LMS_DS\n",
            " |      graycode        0\n",
            " |      entropy         7\n",
            " |      spawn_key       ()\n",
            " |  >>> DigitalNetB2(dimension=2,randomize=False,graycode=True).gen_samples(n_min=2,n_max=4)\n",
            " |  array([[0.75, 0.25],\n",
            " |         [0.25, 0.75]])\n",
            " |  >>> DigitalNetB2(dimension=2,randomize=False,graycode=False).gen_samples(n_min=2,n_max=4)\n",
            " |  array([[0.25, 0.75],\n",
            " |         [0.75, 0.25]])\n",
            " |         \n",
            " |  References:\n",
            " |  \n",
            " |      [1] Marius Hofert and Christiane Lemieux (2019). \n",
            " |      qrng: (Randomized) Quasi-Random Number Generators. \n",
            " |      R package version 0.0-7.\n",
            " |      https://CRAN.R-project.org/package=qrng.\n",
            " |  \n",
            " |      [2] Faure, Henri, and Christiane Lemieux. \n",
            " |      “Implementation of Irreducible Sobol' Sequences in Prime Power Bases.” \n",
            " |      Mathematics and Computers in Simulation 161 (2019): 13–22. Crossref. Web.\n",
            " |  \n",
            " |      [3] F.Y. Kuo & D. Nuyens.\n",
            " |      Application of quasi-Monte Carlo methods to elliptic PDEs with random diffusion coefficients \n",
            " |      - a survey of analysis and implementation, Foundations of Computational Mathematics, \n",
            " |      16(6):1631-1696, 2016.\n",
            " |      springer link: https://link.springer.com/article/10.1007/s10208-016-9329-5\n",
            " |      arxiv link: https://arxiv.org/abs/1606.06613\n",
            " |      \n",
            " |      [4] D. Nuyens, `The Magic Point Shop of QMC point generators and generating\n",
            " |      vectors.` MATLAB and Python software, 2018. Available from\n",
            " |      https://people.cs.kuleuven.be/~dirk.nuyens/\n",
            " |      https://bitbucket.org/dnuyens/qmc-generators/src/cb0f2fb10fa9c9f2665e41419097781b611daa1e/cpp/digitalseq_b2g.hpp\n",
            " |  \n",
            " |      [5] Paszke, A., Gross, S., Massa, F., Lerer, A., Bradbury, J., Chanan, G., … Chintala, S. \n",
            " |      (2019). PyTorch: An Imperative Style, High-Performance Deep Learning Library. \n",
            " |      In H. Wallach, H. Larochelle, A. Beygelzimer, F. d extquotesingle Alch&#39;e-Buc, E. Fox, & R. Garnett (Eds.), \n",
            " |      Advances in Neural Information Processing Systems 32 (pp. 8024–8035). Curran Associates, Inc. \n",
            " |      Retrieved from http://papers.neurips.cc/paper/9015-pytorch-an-imperative-style-high-performance-deep-learning-library.pdf\n",
            " |  \n",
            " |      [6] I.M. Sobol', V.I. Turchaninov, Yu.L. Levitan, B.V. Shukhman: \n",
            " |      \"Quasi-Random Sequence Generators\" Keldysh Institute of Applied Mathematics, \n",
            " |      Russian Acamdey of Sciences, Moscow (1992).\n",
            " |  \n",
            " |      [7] Sobol, Ilya & Asotsky, Danil & Kreinin, Alexander & Kucherenko, Sergei. (2011). \n",
            " |      Construction and Comparison of High-Dimensional Sobol' Generators. Wilmott. \n",
            " |      2011. 10.1002/wilm.10056. \n",
            " |  \n",
            " |      [8] Paul Bratley and Bennett L. Fox. 1988. \n",
            " |      Algorithm 659: Implementing Sobol's quasirandom sequence generator. \n",
            " |      ACM Trans. Math. Softw. 14, 1 (March 1988), 88–100. \n",
            " |      DOI:https://doi.org/10.1145/42288.214372\n",
            " |  \n",
            " |  Method resolution order:\n",
            " |      Sobol\n",
            " |      DigitalNetB2\n",
            " |      qmcpy.discrete_distribution._discrete_distribution.DiscreteDistribution\n",
            " |      builtins.object\n",
            " |  \n",
            " |  Methods inherited from DigitalNetB2:\n",
            " |  \n",
            " |  __init__(self, dimension=1, randomize='LMS_DS', graycode=False, seed=None, generating_matrices='sobol_mat.21201.32.32.msb.npy', d_max=None, t_max=None, m_max=None, msb=None, t_lms=None, _verbose=False)\n",
            " |      Args:\n",
            " |          dimension (int or ndarray): dimension of the generator. \n",
            " |              If an int is passed in, use sequence dimensions [0,...,dimensions-1].\n",
            " |              If a ndarray is passed in, use these dimension indices in the sequence. \n",
            " |          randomize (bool): apply randomization? True defaults to LMS_DS. Can also explicitly pass in\n",
            " |              'LMS_DS': linear matrix scramble with digital shift\n",
            " |              'LMS': linear matrix scramble only\n",
            " |              'DS': digital shift only\n",
            " |          graycode (bool): indicator to use graycode ordering (True) or natural ordering (False)\n",
            " |          seed (list): int seed of list of seeds, one for each dimension.\n",
            " |          generating_matrices (ndarray or str): generating matricies or path to generating matrices.\n",
            " |              ndarray should have shape (d_max, m_max) where each int has t_max bits\n",
            " |              generating_matrices sould be formatted like `gen_mat.21201.32.32.msb.npy` \n",
            " |              with name.d_max.t_max.m_max.{msb,lsb}.npy\n",
            " |          d_max (int): max dimension\n",
            " |          t_max (int): number of bits in each int of each generating matrix. \n",
            " |              aka: number of rows in a generating matrix with ints expanded into columns\n",
            " |          m_max (int): 2^m_max is the number of samples supported. \n",
            " |              aka: number of columns in a generating matrix with ints expanded into columns\n",
            " |          msb (bool): bit storage as ints. e.g. if t_max=3, then 6 is [1 1 0] in MSB (True) and [0 1 1] in LSB (False)\n",
            " |          t_lms (int): LMS scrambling matrix will be t_lms x t_max for generating matrix of shape t_max x m_max\n",
            " |          _verbose (bool): print randomization details\n",
            " |  \n",
            " |  gen_samples(self, n=None, n_min=0, n_max=8, warn=True, return_unrandomized=False)\n",
            " |      Generate samples\n",
            " |      \n",
            " |      Args:\n",
            " |          n (int): if n is supplied, generate from n_min=0 to n_max=n samples. \n",
            " |              Otherwise use the n_min and n_max explicitly supplied as the following 2 arguments\n",
            " |          n_min (int): Starting index of sequence.\n",
            " |          n_max (int): Final index of sequence.\n",
            " |          return_unrandomized (bool): return unrandomized samples as well? \n",
            " |              If True, return randomized_samples,unrandomized_samples. \n",
            " |              Note that this only applies when randomize includes Digital Shift.\n",
            " |              Also note that unrandomized samples included linear matrix scrambling if applicable.\n",
            " |      \n",
            " |      Returns:\n",
            " |          ndarray: (n_max-n_min) x d (dimension) array of samples\n",
            " |  \n",
            " |  pdf(self, x)\n",
            " |      pdf of a standard uniform\n",
            " |  \n",
            " |  ----------------------------------------------------------------------\n",
            " |  Data and other attributes inherited from DigitalNetB2:\n",
            " |  \n",
            " |  dnb2_cf = <_FuncPtr object>\n",
            " |  \n",
            " |  \n",
            " |  ----------------------------------------------------------------------\n",
            " |  Methods inherited from qmcpy.discrete_distribution._discrete_distribution.DiscreteDistribution:\n",
            " |  \n",
            " |  __call__(self, *args, **kwargs)\n",
            " |      Call self as a function.\n",
            " |  \n",
            " |  __repr__(self)\n",
            " |      Return repr(self).\n",
            " |  \n",
            " |  spawn(self, s=1, dimensions=None)\n",
            " |      Spawn new instances of the current discrete distribution but with new seeds and dimensions. \n",
            " |      Developed for multi-level and multi-replication (Q)MC algorithms.\n",
            " |      \n",
            " |      Args:\n",
            " |          s (int): number of spawn\n",
            " |          dimensions (ndarray): length s array of dimension for each spawn. Defaults to current dimension\n",
            " |      \n",
            " |      Return: \n",
            " |          list: list of DiscreteDistribution instances with new seeds and dimensions\n",
            " |  \n",
            " |  ----------------------------------------------------------------------\n",
            " |  Data descriptors inherited from qmcpy.discrete_distribution._discrete_distribution.DiscreteDistribution:\n",
            " |  \n",
            " |  __dict__\n",
            " |      dictionary for instance variables (if defined)\n",
            " |  \n",
            " |  __weakref__\n",
            " |      list of weak references to the object (if defined)\n",
            "\n"
          ]
        },
        {
          "output_type": "execute_result",
          "data": {
            "text/plain": [
              "['__call__',\n",
              " '__class__',\n",
              " '__delattr__',\n",
              " '__dict__',\n",
              " '__dir__',\n",
              " '__doc__',\n",
              " '__eq__',\n",
              " '__format__',\n",
              " '__ge__',\n",
              " '__getattribute__',\n",
              " '__gt__',\n",
              " '__hash__',\n",
              " '__init__',\n",
              " '__init_subclass__',\n",
              " '__le__',\n",
              " '__lt__',\n",
              " '__module__',\n",
              " '__ne__',\n",
              " '__new__',\n",
              " '__reduce__',\n",
              " '__reduce_ex__',\n",
              " '__repr__',\n",
              " '__setattr__',\n",
              " '__sizeof__',\n",
              " '__str__',\n",
              " '__subclasshook__',\n",
              " '__weakref__',\n",
              " '_count_set_bits',\n",
              " '_flip_bits',\n",
              " '_spawn',\n",
              " 'dnb2_cf',\n",
              " 'gen_samples',\n",
              " 'pdf',\n",
              " 'spawn']"
            ]
          },
          "metadata": {},
          "execution_count": 77
        }
      ]
    },
    {
      "cell_type": "markdown",
      "metadata": {
        "id": "Dogw4vktLGmK"
      },
      "source": [
        "### Stopping criteria\n",
        "\n",
        "[GAIL]: http://gailgithub.github.io/GAIL_Dev/ \"Sou-Cheng T. Choi, Yuhan Ding, Fred J. Hickernell, Lan Jiang, Lluis Antoni Jimenez Rugama, Da Li, Jagadeeswaran Rathinavel, Xin Tong, Kan Zhang, Yizhi Zhang, and Xuan Zhou, GAIL: Guaranteed Automatic Integration Library (Version 2.3.1) [MATLAB Software], 2020. Available from `http://gailgithub.github.io/GAIL_Dev/`\"\n",
        "\n",
        "\n",
        "[CubMCML]: https://pubsonline.informs.org/doi/abs/10.1287/opre.1070.0496 \"Giles, M. Multilevel Monte Carlo Path Simulation. Operations  Research 56,607–617 (June 2008).\"\n",
        "\n",
        "[CubQMCML]: https://www.semanticscholar.org/paper/Multilevel-quasi-Monte-Carlo-path-simulation-Giles-Waterhouse/25a9ca3aa216aa371d1be06fa9b93927187ee4ca \"Giles,  M.  B.  &  Waterhouse,  B.  J.  Multilevel  quasi-Monte  Carlo  path  simulation. Advanced Financial  Modelling,  Radon  Series  on  Computational  and  Applied  Mathematics 8,165–181 (2009).\"\n",
        "\n",
        "[GilesSoftware]: http://people.maths.ox.ac.uk/~gilesm/mlmc/\n",
        "\n",
        "[CubMCG]: https://arxiv.org/abs/1208.4318 \"Hickernell, F.J., Jiang, L., Liu, Y., & Owen, A. Guaranteed Conservative Fixed Width Confidence Intervals via Monte Carlo Sampling in Monte  Carlo and Quasi-Monte Carlo Methods 2012 (eds Dick, J., Kuo, F. Y., Peters, G. W., & Sloan, I. H.) \n",
        "Springer Proceedings in Mathematics and Statistics, vol. 65, (Springer-Verlag, Berlin, 2013), 105–128.\"\n",
        "\n",
        "[CubQMCLatticeG]: https://arxiv.org/abs/1411.1966 \"Jiménez Rugama, Ll. A. & Hickernell, F. J. Adaptive  Multidimensional  Integration  Based  on  Rank-1  Lattices in Monte  Carlo  and  Quasi-Monte  Carlo Methods: MCQMC, Leuven, Belgium, April 2014 (eds Cools, R. & Nuyens,D.) 163.arXiv:1411.1966 (Springer-Verlag, Berlin, 2016), 407–422.\"\n",
        "\n",
        "[CubQMCSobolG]: https://arxiv.org/abs/1410.8615 \"Hickernell, F. J. & Jiménez Rugama, Ll. A. Reliable Adaptive Cubature Using Digital Sequences in Monte  Carlo  and  Quasi-Monte  Carlo Methods: MCQMC, Leuven, Belgium, April 2014 (eds Cools, R. & Nuyens,D.) 163.arXiv:1411.1966 (Springer-Verlag, Berlin, 2016), 367--383.\"\n",
        "\n",
        "\n",
        "The stopping criteria implemented come from several sources:\n",
        "- There are Central Limit Theorem (CLT) criteria for IID and LD sampling\n",
        "- Rigorous stopping criteria imported from [GAIL] have been implemented for\n",
        "  - [IID][CubMCG] sampling\n",
        "  - [Lattice][CubQMCLatticeG] sampling\n",
        "  - [Sobol'][CubQMCSobolG] sampling\n",
        "- Multilevel stopping criteria due to [Giles][GilesSoftware] are given for [IID][CubMCML] and [LD][CubQMCML] sampling"
      ]
    },
    {
      "cell_type": "markdown",
      "metadata": {
        "id": "3yQgB-Y1f_AQ"
      },
      "source": [
        "#### Changing the tolerance\n",
        "\n",
        "If you want to change the error tolerance, without creating a new ``StoppingCriterion`` object, there is a ``set_tolerance`` method."
      ]
    },
    {
      "cell_type": "code",
      "metadata": {
        "id": "kvsEiUG55mEi",
        "colab": {
          "base_uri": "https://localhost:8080/"
        },
        "outputId": "43765bc9-fede-4129-f83f-d60d0bb06adf"
      },
      "source": [
        "sc = qmcpy.CubQMCLatticeG(qmcpy.Keister(qmcpy.Gaussian(qmcpy.Lattice(5,seed=7),covariance=1/2)),abs_tol=.01)\n",
        "print(sc.integrate()[1],'\\n\\n')\n",
        "sc.set_tolerance(abs_tol=.001)  #changing the tolerance\n",
        "print(sc.integrate()[1],'\\n\\n')"
      ],
      "execution_count": null,
      "outputs": [
        {
          "output_type": "stream",
          "name": "stdout",
          "text": [
            "LDTransformData (AccumulateData Object)\n",
            "    solution        1.138\n",
            "    error_bound     0.008\n",
            "    n_total         2^(13)\n",
            "    time_integrate  0.031\n",
            "CubQMCLatticeG (StoppingCriterion Object)\n",
            "    abs_tol         0.010\n",
            "    rel_tol         0\n",
            "    n_init          2^(10)\n",
            "    n_max           2^(35)\n",
            "Keister (Integrand Object)\n",
            "Gaussian (TrueMeasure Object)\n",
            "    mean            0\n",
            "    covariance      2^(-1)\n",
            "    decomp_type     PCA\n",
            "    transform       Gaussian (TrueMeasure Object)\n",
            "                       mean            0\n",
            "                       covariance      2^(-1)\n",
            "                       decomp_type     PCA\n",
            "Lattice (DiscreteDistribution Object)\n",
            "    d               5\n",
            "    dvec            [0 1 2 3 4]\n",
            "    randomize       1\n",
            "    order           natural\n",
            "    entropy         7\n",
            "    spawn_key       () \n",
            "\n",
            "\n",
            "LDTransformData (AccumulateData Object)\n",
            "    solution        1.137\n",
            "    error_bound     5.59e-04\n",
            "    n_total         2^(17)\n",
            "    time_integrate  0.466\n",
            "CubQMCLatticeG (StoppingCriterion Object)\n",
            "    abs_tol         0.001\n",
            "    rel_tol         0\n",
            "    n_init          2^(10)\n",
            "    n_max           2^(35)\n",
            "Keister (Integrand Object)\n",
            "Gaussian (TrueMeasure Object)\n",
            "    mean            0\n",
            "    covariance      2^(-1)\n",
            "    decomp_type     PCA\n",
            "    transform       Gaussian (TrueMeasure Object)\n",
            "                       mean            0\n",
            "                       covariance      2^(-1)\n",
            "                       decomp_type     PCA\n",
            "Lattice (DiscreteDistribution Object)\n",
            "    d               5\n",
            "    dvec            [0 1 2 3 4]\n",
            "    randomize       1\n",
            "    order           natural\n",
            "    entropy         7\n",
            "    spawn_key       () \n",
            "\n",
            "\n"
          ]
        }
      ]
    },
    {
      "cell_type": "markdown",
      "metadata": {
        "id": "5xDmWnPHE-qY"
      },
      "source": [
        "#### Relative error tolerances\n",
        "\n",
        "For some problems a relative error tolerance may make more sense.  By default ``rel_tol`` is zero.  The stopping criterion stops when either of the two tolerances is met."
      ]
    },
    {
      "cell_type": "code",
      "metadata": {
        "id": "FpKNsUzFFVyt",
        "colab": {
          "base_uri": "https://localhost:8080/"
        },
        "outputId": "0a71942d-b3cc-4833-eba5-17d291bf536d"
      },
      "source": [
        "sc = qmcpy.CubQMCLatticeG(qmcpy.Keister(qmcpy.Gaussian(qmcpy.Lattice(5,seed=7),covariance=1/2)),abs_tol=.01)  #zero relative tolerance by default\n",
        "print(sc.integrate()[1],'\\n\\n')\n",
        "sc.set_tolerance(abs_tol=0,rel_tol=0.005)  #nonzero relative tolerance and zero absolute tolerance\n",
        "print(sc.integrate()[1])"
      ],
      "execution_count": null,
      "outputs": [
        {
          "output_type": "stream",
          "name": "stdout",
          "text": [
            "LDTransformData (AccumulateData Object)\n",
            "    solution        1.138\n",
            "    error_bound     0.008\n",
            "    n_total         2^(13)\n",
            "    time_integrate  0.035\n",
            "CubQMCLatticeG (StoppingCriterion Object)\n",
            "    abs_tol         0.010\n",
            "    rel_tol         0\n",
            "    n_init          2^(10)\n",
            "    n_max           2^(35)\n",
            "Keister (Integrand Object)\n",
            "Gaussian (TrueMeasure Object)\n",
            "    mean            0\n",
            "    covariance      2^(-1)\n",
            "    decomp_type     PCA\n",
            "    transform       Gaussian (TrueMeasure Object)\n",
            "                       mean            0\n",
            "                       covariance      2^(-1)\n",
            "                       decomp_type     PCA\n",
            "Lattice (DiscreteDistribution Object)\n",
            "    d               5\n",
            "    dvec            [0 1 2 3 4]\n",
            "    randomize       1\n",
            "    order           natural\n",
            "    entropy         7\n",
            "    spawn_key       () \n",
            "\n",
            "\n",
            "LDTransformData (AccumulateData Object)\n",
            "    solution        1.137\n",
            "    error_bound     0.004\n",
            "    n_total         2^(14)\n",
            "    time_integrate  0.047\n",
            "CubQMCLatticeG (StoppingCriterion Object)\n",
            "    abs_tol         0\n",
            "    rel_tol         0.005\n",
            "    n_init          2^(10)\n",
            "    n_max           2^(35)\n",
            "Keister (Integrand Object)\n",
            "Gaussian (TrueMeasure Object)\n",
            "    mean            0\n",
            "    covariance      2^(-1)\n",
            "    decomp_type     PCA\n",
            "    transform       Gaussian (TrueMeasure Object)\n",
            "                       mean            0\n",
            "                       covariance      2^(-1)\n",
            "                       decomp_type     PCA\n",
            "Lattice (DiscreteDistribution Object)\n",
            "    d               5\n",
            "    dvec            [0 1 2 3 4]\n",
            "    randomize       1\n",
            "    order           natural\n",
            "    entropy         7\n",
            "    spawn_key       ()\n"
          ]
        }
      ]
    },
    {
      "cell_type": "markdown",
      "metadata": {
        "id": "vJH-4-_1LMOH"
      },
      "source": [
        "### Use cases\n",
        "\n",
        "Only a few use cases have been coded so far.  These include\n",
        "* ``qmcpy.keister`` Keiser's example\n",
        "* European and Asian option pricing (Single and Multi-level)\n",
        "* Computing Q-Noisy Expected Improvement (qEI) for Bayesian Optimization, see the blog at https://qmcpy.wpcomstaging.com/2020/07/19/qei-with-qmcpy/ and the Colaboratory notebook at https://drive.google.com/drive/folders/1EOREUL7lx4hytuZRQXB50UV8aE9JYN_a\n",
        "* Importance Sampling\n",
        "* Acceptance Rejection Sampling\n",
        "* Custom Sampling by Inverse CDF Transform\n",
        "\n",
        "``qmcpy`` would benefit from contributions.\n"
      ]
    },
    {
      "cell_type": "markdown",
      "metadata": {
        "id": "YGwMtWj_Wa41"
      },
      "source": [
        "## Acknowledgements and Contributing\n",
        "\n",
        "The ``qmcpy`` code has primarily been written by Aleksei Sorokin (BS/MS expected in 2021), with the generous financial support of SigOpt https://sigopt.com.  However, much of the code is adapted from that of our friends (see above)\n",
        "\n",
        "We hope that QMCPy will become supported by the community.  Your contribution will add value to QMCPy, while allowing you to take advantage of the contribution of others.\n",
        "\n",
        "We highlight the value of community owned software."
      ]
    },
    {
      "cell_type": "markdown",
      "metadata": {
        "id": "LZkzVU91mJ_1"
      },
      "source": [
        "### Benefitting from each other's work is easier when we share\n",
        "\n",
        "* Most of us are very good at just one or two things:\n",
        "  * LD sequence generators\n",
        "  * Increasing efficiency (e.g., MLMC)\n",
        "  * Stopping criteria\n",
        "  * Realistic use cases\n",
        "\n",
        "  Having a shared software library let's us take advantage of the best\n",
        "\n",
        "* Provides a consistent interface for different pieces from different places\n",
        "\n",
        "* Supports reproducible computational research\n",
        "\n",
        "* Tedious stuff only needs to be figured out once"
      ]
    },
    {
      "cell_type": "markdown",
      "metadata": {
        "id": "8Gem3kfF6qFt"
      },
      "source": [
        "### A community helps find and correct code errors\n",
        "\n",
        "By having more eyes on code than just the developer's we are more likely to spot errors or idiosyncracies.  Here are two examples."
      ]
    },
    {
      "cell_type": "markdown",
      "metadata": {
        "id": "OFUXDQWu63T9"
      },
      "source": [
        "#### MATLAB's Sobol' generator\n",
        "\n",
        "Several years ago Lluís Antoni Jiménez Rugama discovered that the scrambling of the Sobol' generators implemented in MATLAB's Statistics Toolbox was wrong.  After reporting the problem to the developers, it was corrected in MATLAB 2017a"
      ]
    },
    {
      "cell_type": "markdown",
      "metadata": {
        "id": "tOtbO49TSXbS"
      },
      "source": [
        "#### PyTorch's Sobol' generator\n",
        "\n",
        "PyTorch is a popular Python library with its own Sobol generator.  However, it should be used with care.\n",
        "\n",
        "*   As noted above, the first point is skipped.  \n",
        "*   We found that unless you specify double precision, you get points that have 1 as a coordinate far too often.  The developer seemed unaware of this.\n",
        "\n",
        "These issues have been reported at https://github.com/pytorch/pytorch/issues/32047.\n",
        "\n"
      ]
    },
    {
      "cell_type": "markdown",
      "metadata": {
        "id": "9KVfvHiym6Pp"
      },
      "source": [
        "###How you can contribute\n",
        "\n",
        "After trying QMCPy out help us out by\n",
        "\n",
        "**Easy.**<br>\n",
        "> Submit your bugs and feature requests as issues to https://github.com/QMCSoftware/QMCSoftware/issues\n",
        "\n",
        "**Moderately Difficult.**<br>\n",
        "> Ask your students or collaborators to try QMCPy for their own work and submit their bugs and feature requests\n",
        "\n",
        "**Heroic.**<br>\n",
        "> Add a feature or use case and make a pull request at  https://github.com/QMCSoftware/QMCSoftware/pulls so that we can included it in our next release\n",
        "\n",
        "Questions?  Email us at qmc-software@googlegroups.com\n",
        "\n"
      ]
    },
    {
      "cell_type": "markdown",
      "metadata": {
        "id": "1q5YeKPMAVuW"
      },
      "source": [
        "## References\n",
        "\n",
        "1. S.-C. T. Choi, Y. Ding, F. J. Hickernell, L. Jiang, Ll. A. Jimenez Rugama, D. Li, Jagadeeswaran R., X. Tong, K. Zhang, Y. Zhang, and X. Zhou, GAIL: Guaranteed Automatic Integration Library (Version 2.3.1) [MATLAB Software], 2020. Available from `http://gailgithub.github.io/GAIL_Dev/`\n",
        "\n",
        "1. H. Faure and C. Lemieux. “Implementation of Irreducible Sobol’ Sequences in Prime Power Bases,” Mathematics and Computers in Simulation 161 (2019): 13–22. \n",
        "\n",
        "1. M. B. Giles. \"Multi-level Monte Carlo path simulation,\" Operations Research, 56(3):607-617, 2008. `http://people.maths.ox.ac.uk/~gilesm/files/OPRE_2008.pdf`.\n",
        "\n",
        "1. M. B. Giles. \"Improved multilevel Monte Carlo convergence using the Milstein scheme,\" 343-358, in Monte Carlo and Quasi-Monte Carlo Methods 2006, Springer, 2008. `http://people.maths.ox.ac.uk/~gilesm/files/mcqmc06.pdf`.\n",
        "\n",
        "1. M. B. Giles and B. J. Waterhouse. \"Multilevel quasi-Monte Carlo path simulation,\" pp.165-181 in Advanced Financial Modelling, in Radon Series on Computational and Applied Mathematics, de Gruyter, 2009. `http://people.maths.ox.ac.uk/~gilesm/files/radon.pdf`\n",
        "\n",
        "1. F. J. Hickernell, L. Jiang, Y. Liu, and A. B. Owen, \"Guaranteed conservative fixed width confidence intervals via Monte Carlo sampling,\" Monte Carlo and Quasi-Monte Carlo Methods 2012 (J. Dick, F.Y. Kuo, G. W. Peters, and I. H. Sloan, eds.), pp. 105-128, Springer-Verlag, Berlin, 2014. DOI: 10.1007/978-3-642-41095-6_5\n",
        "\n",
        "1. F. J. Hickernell and Lluis Antoni Jimenez Rugama, \"Reliable adaptive cubature using digital sequences,\" Monte Carlo and Quasi-Monte Carlo Methods: MCQMC, Leuven, Belgium, April 2014 (R. Cools and D. Nuyens, eds.), Springer Proceedings in Mathematics and Statistics, vol. 163, Springer-Verlag, Berlin, 2016, arXiv:1410.8615 [math.NA], pp. 367-383.\n",
        "\n",
        "1. M. Hofert and C. Lemieux (2019). qrng: (Randomized) Quasi-Random Number Generators. R package version 0.0-7. `https://CRAN.R-project.org/package=qrng`.\n",
        "\n",
        "1. Ll. A. Jimenez Rugama and F. J. Hickernell, \"Adaptive multidimensional integration based on rank-1 lattices,\" Monte Carlo and Quasi-Monte Carlo  Methods: MCQMC, Leuven, Belgium, April 2014 (R. Cools and D. Nuyens, eds.), Springer Proceedings in Mathematics and Statistics, vol. 163, Springer-Verlag, Berlin, 2016, arXiv:1411.1966, pp. 407-422.\n",
        "\n",
        "1. B. D. Keister, Multidimensional Quadrature Algorithms,  'Computers in Physics', *10*, pp. 119-122, 1996.\n",
        "\n",
        "1. F. Y. Kuo and D. Nuyens. \"Application of quasi-Monte Carlo methods to elliptic PDEs with random diffusion coefficients - a survey of analysis and implementation,\" Foundations of Computational Mathematics, 16(6):1631-1696, 2016. ([springer link](https://link.springer.com/article/10.1007/s10208-016-9329-5), [arxiv link](https://arxiv.org/abs/1606.06613))\n",
        "\n",
        "1. P. L’Ecuyer and D. Munger, \"LatticeBuilder: A General Software Tool for Constructing Rank-1 Lattice Rules,\" ACM Transactions on Mathematical Software. *42* (2015). 10.1145/2754929. \n",
        "\n",
        "1. Y. Li, L. Kang, L., and F. J. Hickernell, Is a Transformed Low Discrepancy Design Also Low Discrepancy? in Contemporary Experimental Design, Multivariate Analysis and Data Mining, Festschrift in Honour of Professor Kai-Tai Fang (J. Fan and J. Pan, eds.), p. 69–92, 2020, https://arxiv.org/abs/2004.09887.\n",
        "\n",
        "1. A. B. Owen, \"A randomized Halton algorithm in R,\" 2017. arXiv:1706.02808 [stat.CO]\n",
        "\n"
      ]
    }
  ]
}